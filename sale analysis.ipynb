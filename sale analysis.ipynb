{
 "cells": [
  {
   "cell_type": "code",
   "execution_count": 4,
   "id": "59b73cc1",
   "metadata": {},
   "outputs": [],
   "source": [
    "import pandas as pd \n",
    "import numpy as np\n",
    "import matplotlib.pyplot as plt\n",
    "import seaborn as sns"
   ]
  },
  {
   "cell_type": "code",
   "execution_count": 8,
   "id": "a139d58d",
   "metadata": {},
   "outputs": [],
   "source": [
    "original_df = pd.read_csv('C:\\\\Users\\\\xpert\\\\Downloads\\\\all_data.csv')"
   ]
  },
  {
   "cell_type": "code",
   "execution_count": 9,
   "id": "1b81c20f",
   "metadata": {},
   "outputs": [
    {
     "data": {
      "text/html": [
       "<div>\n",
       "<style scoped>\n",
       "    .dataframe tbody tr th:only-of-type {\n",
       "        vertical-align: middle;\n",
       "    }\n",
       "\n",
       "    .dataframe tbody tr th {\n",
       "        vertical-align: top;\n",
       "    }\n",
       "\n",
       "    .dataframe thead th {\n",
       "        text-align: right;\n",
       "    }\n",
       "</style>\n",
       "<table border=\"1\" class=\"dataframe\">\n",
       "  <thead>\n",
       "    <tr style=\"text-align: right;\">\n",
       "      <th></th>\n",
       "      <th>Order ID</th>\n",
       "      <th>Product</th>\n",
       "      <th>Quantity Ordered</th>\n",
       "      <th>Price Each</th>\n",
       "      <th>Order Date</th>\n",
       "      <th>Purchase Address</th>\n",
       "    </tr>\n",
       "  </thead>\n",
       "  <tbody>\n",
       "    <tr>\n",
       "      <th>0</th>\n",
       "      <td>236670</td>\n",
       "      <td>Wired Headphones</td>\n",
       "      <td>2</td>\n",
       "      <td>11.99</td>\n",
       "      <td>08/31/19 22:21</td>\n",
       "      <td>359 Spruce St, Seattle, WA 98101</td>\n",
       "    </tr>\n",
       "    <tr>\n",
       "      <th>1</th>\n",
       "      <td>236671</td>\n",
       "      <td>Bose SoundSport Headphones</td>\n",
       "      <td>1</td>\n",
       "      <td>99.99</td>\n",
       "      <td>08/15/19 15:11</td>\n",
       "      <td>492 Ridge St, Dallas, TX 75001</td>\n",
       "    </tr>\n",
       "    <tr>\n",
       "      <th>2</th>\n",
       "      <td>236672</td>\n",
       "      <td>iPhone</td>\n",
       "      <td>1</td>\n",
       "      <td>700.0</td>\n",
       "      <td>08/06/19 14:40</td>\n",
       "      <td>149 7th St, Portland, OR 97035</td>\n",
       "    </tr>\n",
       "    <tr>\n",
       "      <th>3</th>\n",
       "      <td>236673</td>\n",
       "      <td>AA Batteries (4-pack)</td>\n",
       "      <td>2</td>\n",
       "      <td>3.84</td>\n",
       "      <td>08/29/19 20:59</td>\n",
       "      <td>631 2nd St, Los Angeles, CA 90001</td>\n",
       "    </tr>\n",
       "    <tr>\n",
       "      <th>4</th>\n",
       "      <td>236674</td>\n",
       "      <td>AA Batteries (4-pack)</td>\n",
       "      <td>2</td>\n",
       "      <td>3.84</td>\n",
       "      <td>08/15/19 19:53</td>\n",
       "      <td>736 14th St, New York City, NY 10001</td>\n",
       "    </tr>\n",
       "  </tbody>\n",
       "</table>\n",
       "</div>"
      ],
      "text/plain": [
       "  Order ID                     Product Quantity Ordered Price Each  \\\n",
       "0   236670            Wired Headphones                2      11.99   \n",
       "1   236671  Bose SoundSport Headphones                1      99.99   \n",
       "2   236672                      iPhone                1      700.0   \n",
       "3   236673       AA Batteries (4-pack)                2       3.84   \n",
       "4   236674       AA Batteries (4-pack)                2       3.84   \n",
       "\n",
       "       Order Date                      Purchase Address  \n",
       "0  08/31/19 22:21      359 Spruce St, Seattle, WA 98101  \n",
       "1  08/15/19 15:11        492 Ridge St, Dallas, TX 75001  \n",
       "2  08/06/19 14:40        149 7th St, Portland, OR 97035  \n",
       "3  08/29/19 20:59     631 2nd St, Los Angeles, CA 90001  \n",
       "4  08/15/19 19:53  736 14th St, New York City, NY 10001  "
      ]
     },
     "execution_count": 9,
     "metadata": {},
     "output_type": "execute_result"
    }
   ],
   "source": [
    "original_df.head()"
   ]
  },
  {
   "cell_type": "code",
   "execution_count": 10,
   "id": "b58943e3",
   "metadata": {},
   "outputs": [
    {
     "data": {
      "text/html": [
       "<div>\n",
       "<style scoped>\n",
       "    .dataframe tbody tr th:only-of-type {\n",
       "        vertical-align: middle;\n",
       "    }\n",
       "\n",
       "    .dataframe tbody tr th {\n",
       "        vertical-align: top;\n",
       "    }\n",
       "\n",
       "    .dataframe thead th {\n",
       "        text-align: right;\n",
       "    }\n",
       "</style>\n",
       "<table border=\"1\" class=\"dataframe\">\n",
       "  <thead>\n",
       "    <tr style=\"text-align: right;\">\n",
       "      <th></th>\n",
       "      <th>Order ID</th>\n",
       "      <th>Product</th>\n",
       "      <th>Quantity Ordered</th>\n",
       "      <th>Price Each</th>\n",
       "      <th>Order Date</th>\n",
       "      <th>Purchase Address</th>\n",
       "    </tr>\n",
       "  </thead>\n",
       "  <tbody>\n",
       "    <tr>\n",
       "      <th>0</th>\n",
       "      <td>236670</td>\n",
       "      <td>Wired Headphones</td>\n",
       "      <td>2</td>\n",
       "      <td>11.99</td>\n",
       "      <td>08/31/19 22:21</td>\n",
       "      <td>359 Spruce St, Seattle, WA 98101</td>\n",
       "    </tr>\n",
       "    <tr>\n",
       "      <th>1</th>\n",
       "      <td>236671</td>\n",
       "      <td>Bose SoundSport Headphones</td>\n",
       "      <td>1</td>\n",
       "      <td>99.99</td>\n",
       "      <td>08/15/19 15:11</td>\n",
       "      <td>492 Ridge St, Dallas, TX 75001</td>\n",
       "    </tr>\n",
       "    <tr>\n",
       "      <th>2</th>\n",
       "      <td>236672</td>\n",
       "      <td>iPhone</td>\n",
       "      <td>1</td>\n",
       "      <td>700.0</td>\n",
       "      <td>08/06/19 14:40</td>\n",
       "      <td>149 7th St, Portland, OR 97035</td>\n",
       "    </tr>\n",
       "    <tr>\n",
       "      <th>3</th>\n",
       "      <td>236673</td>\n",
       "      <td>AA Batteries (4-pack)</td>\n",
       "      <td>2</td>\n",
       "      <td>3.84</td>\n",
       "      <td>08/29/19 20:59</td>\n",
       "      <td>631 2nd St, Los Angeles, CA 90001</td>\n",
       "    </tr>\n",
       "    <tr>\n",
       "      <th>4</th>\n",
       "      <td>236674</td>\n",
       "      <td>AA Batteries (4-pack)</td>\n",
       "      <td>2</td>\n",
       "      <td>3.84</td>\n",
       "      <td>08/15/19 19:53</td>\n",
       "      <td>736 14th St, New York City, NY 10001</td>\n",
       "    </tr>\n",
       "  </tbody>\n",
       "</table>\n",
       "</div>"
      ],
      "text/plain": [
       "  Order ID                     Product Quantity Ordered Price Each  \\\n",
       "0   236670            Wired Headphones                2      11.99   \n",
       "1   236671  Bose SoundSport Headphones                1      99.99   \n",
       "2   236672                      iPhone                1      700.0   \n",
       "3   236673       AA Batteries (4-pack)                2       3.84   \n",
       "4   236674       AA Batteries (4-pack)                2       3.84   \n",
       "\n",
       "       Order Date                      Purchase Address  \n",
       "0  08/31/19 22:21      359 Spruce St, Seattle, WA 98101  \n",
       "1  08/15/19 15:11        492 Ridge St, Dallas, TX 75001  \n",
       "2  08/06/19 14:40        149 7th St, Portland, OR 97035  \n",
       "3  08/29/19 20:59     631 2nd St, Los Angeles, CA 90001  \n",
       "4  08/15/19 19:53  736 14th St, New York City, NY 10001  "
      ]
     },
     "execution_count": 10,
     "metadata": {},
     "output_type": "execute_result"
    }
   ],
   "source": [
    "# make copy of data\n",
    "main_df = original_df.copy()\n",
    "main_df.head()"
   ]
  },
  {
   "cell_type": "markdown",
   "id": "e158f316",
   "metadata": {},
   "source": [
    "## Data Preprocessing"
   ]
  },
  {
   "cell_type": "code",
   "execution_count": 11,
   "id": "129fe169",
   "metadata": {},
   "outputs": [
    {
     "name": "stdout",
     "output_type": "stream",
     "text": [
      "<class 'pandas.core.frame.DataFrame'>\n",
      "RangeIndex: 186850 entries, 0 to 186849\n",
      "Data columns (total 6 columns):\n",
      " #   Column            Non-Null Count   Dtype \n",
      "---  ------            --------------   ----- \n",
      " 0   Order ID          186305 non-null  object\n",
      " 1   Product           186305 non-null  object\n",
      " 2   Quantity Ordered  186305 non-null  object\n",
      " 3   Price Each        186305 non-null  object\n",
      " 4   Order Date        186305 non-null  object\n",
      " 5   Purchase Address  186305 non-null  object\n",
      "dtypes: object(6)\n",
      "memory usage: 8.6+ MB\n"
     ]
    }
   ],
   "source": [
    "main_df.info()"
   ]
  },
  {
   "cell_type": "code",
   "execution_count": 12,
   "id": "657560aa",
   "metadata": {},
   "outputs": [
    {
     "data": {
      "text/plain": [
       "Order ID            545\n",
       "Product             545\n",
       "Quantity Ordered    545\n",
       "Price Each          545\n",
       "Order Date          545\n",
       "Purchase Address    545\n",
       "dtype: int64"
      ]
     },
     "execution_count": 12,
     "metadata": {},
     "output_type": "execute_result"
    }
   ],
   "source": [
    "## checking for missing data\n",
    "main_df.isna().sum()"
   ]
  },
  {
   "cell_type": "markdown",
   "id": "83705134",
   "metadata": {},
   "source": [
    "## Droping rows with NaNs values."
   ]
  },
  {
   "cell_type": "code",
   "execution_count": 14,
   "id": "cbb0dd2d",
   "metadata": {},
   "outputs": [
    {
     "data": {
      "text/plain": [
       "(186305, 6)"
      ]
     },
     "execution_count": 14,
     "metadata": {},
     "output_type": "execute_result"
    }
   ],
   "source": [
    "main_df.dropna(inplace=True)\n",
    "main_df.shape"
   ]
  },
  {
   "cell_type": "markdown",
   "id": "fad440f2",
   "metadata": {},
   "source": [
    "## Uniqueness Categorical Variables"
   ]
  },
  {
   "cell_type": "code",
   "execution_count": 15,
   "id": "53176346",
   "metadata": {},
   "outputs": [
    {
     "name": "stdout",
     "output_type": "stream",
     "text": [
      "Order ID : 178438 unique value(s)\n",
      "Product : 20 unique value(s)\n",
      "Quantity Ordered : 10 unique value(s)\n",
      "Price Each : 24 unique value(s)\n",
      "Order Date : 142396 unique value(s)\n",
      "Purchase Address : 140788 unique value(s)\n"
     ]
    }
   ],
   "source": [
    "categorical = main_df.select_dtypes(['category', 'object']).columns \n",
    "for col in categorical:\n",
    "    print('{} : {} unique value(s)'.format(col, main_df[col].nunique()))"
   ]
  },
  {
   "cell_type": "code",
   "execution_count": 16,
   "id": "1b0a4fcf",
   "metadata": {},
   "outputs": [
    {
     "data": {
      "text/plain": [
       "(185687, 6)"
      ]
     },
     "execution_count": 16,
     "metadata": {},
     "output_type": "execute_result"
    }
   ],
   "source": [
    "# droping duplicate dataset\n",
    "main_df = main_df.drop_duplicates()\n",
    "main_df.shape"
   ]
  },
  {
   "cell_type": "markdown",
   "id": "b86ab447",
   "metadata": {},
   "source": [
    "## Let's Calculate sales\n",
    "\n",
    "## Sales = Quantity Ordered * Price Each"
   ]
  },
  {
   "cell_type": "code",
   "execution_count": 17,
   "id": "398f54a2",
   "metadata": {},
   "outputs": [],
   "source": [
    "# main_df['Sales'] = main_df['Quantity Ordered'] * main_df['Price Each']\n",
    "# main_df.head()\n"
   ]
  },
  {
   "cell_type": "code",
   "execution_count": 22,
   "id": "fbcce75e",
   "metadata": {},
   "outputs": [
    {
     "data": {
      "text/plain": [
       "Order ID            object\n",
       "Product             object\n",
       "Quantity Ordered    object\n",
       "Price Each          object\n",
       "Order Date          object\n",
       "Purchase Address    object\n",
       "dtype: object"
      ]
     },
     "execution_count": 22,
     "metadata": {},
     "output_type": "execute_result"
    }
   ],
   "source": [
    "main_df.dtypes"
   ]
  },
  {
   "cell_type": "markdown",
   "id": "84077950",
   "metadata": {},
   "source": [
    "## Here, Quantity Ordered and Price Each are of Object Dtypes. Converting these into Numeric Datatypes."
   ]
  },
  {
   "cell_type": "code",
   "execution_count": 23,
   "id": "a6d13480",
   "metadata": {},
   "outputs": [
    {
     "ename": "ValueError",
     "evalue": "Unable to parse string \"Quantity Ordered\" at position 211",
     "output_type": "error",
     "traceback": [
      "\u001b[1;31m---------------------------------------------------------------------------\u001b[0m",
      "\u001b[1;31mValueError\u001b[0m                                Traceback (most recent call last)",
      "\u001b[1;32m~\\anaconda3\\lib\\site-packages\\pandas\\_libs\\lib.pyx\u001b[0m in \u001b[0;36mpandas._libs.lib.maybe_convert_numeric\u001b[1;34m()\u001b[0m\n",
      "\u001b[1;31mValueError\u001b[0m: Unable to parse string \"Quantity Ordered\"",
      "\nDuring handling of the above exception, another exception occurred:\n",
      "\u001b[1;31mValueError\u001b[0m                                Traceback (most recent call last)",
      "\u001b[1;32m~\\AppData\\Local\\Temp/ipykernel_9212/2369827242.py\u001b[0m in \u001b[0;36m<module>\u001b[1;34m\u001b[0m\n\u001b[1;32m----> 1\u001b[1;33m \u001b[0mmain_df\u001b[0m\u001b[1;33m[\u001b[0m\u001b[1;34m'Quantity Ordered'\u001b[0m\u001b[1;33m]\u001b[0m \u001b[1;33m=\u001b[0m \u001b[0mpd\u001b[0m\u001b[1;33m.\u001b[0m\u001b[0mto_numeric\u001b[0m\u001b[1;33m(\u001b[0m\u001b[0mmain_df\u001b[0m\u001b[1;33m[\u001b[0m\u001b[1;34m'Quantity Ordered'\u001b[0m\u001b[1;33m]\u001b[0m\u001b[1;33m)\u001b[0m\u001b[1;33m\u001b[0m\u001b[1;33m\u001b[0m\u001b[0m\n\u001b[0m\u001b[0;32m      2\u001b[0m \u001b[0mmain_df\u001b[0m\u001b[1;33m[\u001b[0m\u001b[1;34m'Price Each'\u001b[0m\u001b[1;33m]\u001b[0m \u001b[1;33m=\u001b[0m \u001b[0mpd\u001b[0m\u001b[1;33m.\u001b[0m\u001b[0mto_numeric\u001b[0m\u001b[1;33m(\u001b[0m\u001b[0mmain_df\u001b[0m\u001b[1;33m[\u001b[0m\u001b[1;34m'Price Each'\u001b[0m\u001b[1;33m]\u001b[0m\u001b[1;33m)\u001b[0m\u001b[1;33m\u001b[0m\u001b[1;33m\u001b[0m\u001b[0m\n\u001b[0;32m      3\u001b[0m \u001b[0mmain_df\u001b[0m\u001b[1;33m.\u001b[0m\u001b[0mdtypes\u001b[0m\u001b[1;33m\u001b[0m\u001b[1;33m\u001b[0m\u001b[0m\n",
      "\u001b[1;32m~\\anaconda3\\lib\\site-packages\\pandas\\core\\tools\\numeric.py\u001b[0m in \u001b[0;36mto_numeric\u001b[1;34m(arg, errors, downcast)\u001b[0m\n\u001b[0;32m    181\u001b[0m         \u001b[0mcoerce_numeric\u001b[0m \u001b[1;33m=\u001b[0m \u001b[0merrors\u001b[0m \u001b[1;32mnot\u001b[0m \u001b[1;32min\u001b[0m \u001b[1;33m(\u001b[0m\u001b[1;34m\"ignore\"\u001b[0m\u001b[1;33m,\u001b[0m \u001b[1;34m\"raise\"\u001b[0m\u001b[1;33m)\u001b[0m\u001b[1;33m\u001b[0m\u001b[1;33m\u001b[0m\u001b[0m\n\u001b[0;32m    182\u001b[0m         \u001b[1;32mtry\u001b[0m\u001b[1;33m:\u001b[0m\u001b[1;33m\u001b[0m\u001b[1;33m\u001b[0m\u001b[0m\n\u001b[1;32m--> 183\u001b[1;33m             values, _ = lib.maybe_convert_numeric(\n\u001b[0m\u001b[0;32m    184\u001b[0m                 \u001b[0mvalues\u001b[0m\u001b[1;33m,\u001b[0m \u001b[0mset\u001b[0m\u001b[1;33m(\u001b[0m\u001b[1;33m)\u001b[0m\u001b[1;33m,\u001b[0m \u001b[0mcoerce_numeric\u001b[0m\u001b[1;33m=\u001b[0m\u001b[0mcoerce_numeric\u001b[0m\u001b[1;33m\u001b[0m\u001b[1;33m\u001b[0m\u001b[0m\n\u001b[0;32m    185\u001b[0m             )\n",
      "\u001b[1;32m~\\anaconda3\\lib\\site-packages\\pandas\\_libs\\lib.pyx\u001b[0m in \u001b[0;36mpandas._libs.lib.maybe_convert_numeric\u001b[1;34m()\u001b[0m\n",
      "\u001b[1;31mValueError\u001b[0m: Unable to parse string \"Quantity Ordered\" at position 211"
     ]
    }
   ],
   "source": [
    "#ValueError: Unable to parse string \"Quantity Ordered\" at position 211\n",
    " \n",
    "#main_df['Quantity Ordered'] = pd.to_numeric(main_df['Quantity Ordered'])\n",
    "#main_df['Price Each'] = pd.to_numeric(main_df['Price Each'])\n",
    "#main_df.dtypes"
   ]
  },
  {
   "cell_type": "code",
   "execution_count": 24,
   "id": "2f190232",
   "metadata": {},
   "outputs": [
    {
     "data": {
      "text/plain": [
       "'Quantity Ordered'"
      ]
     },
     "execution_count": 24,
     "metadata": {},
     "output_type": "execute_result"
    }
   ],
   "source": [
    "main_df['Quantity Ordered'].iloc[211]"
   ]
  },
  {
   "cell_type": "code",
   "execution_count": 25,
   "id": "7585ee26",
   "metadata": {},
   "outputs": [
    {
     "data": {
      "text/html": [
       "<div>\n",
       "<style scoped>\n",
       "    .dataframe tbody tr th:only-of-type {\n",
       "        vertical-align: middle;\n",
       "    }\n",
       "\n",
       "    .dataframe tbody tr th {\n",
       "        vertical-align: top;\n",
       "    }\n",
       "\n",
       "    .dataframe thead th {\n",
       "        text-align: right;\n",
       "    }\n",
       "</style>\n",
       "<table border=\"1\" class=\"dataframe\">\n",
       "  <thead>\n",
       "    <tr style=\"text-align: right;\">\n",
       "      <th></th>\n",
       "      <th>Order ID</th>\n",
       "      <th>Product</th>\n",
       "      <th>Quantity Ordered</th>\n",
       "      <th>Price Each</th>\n",
       "      <th>Order Date</th>\n",
       "      <th>Purchase Address</th>\n",
       "    </tr>\n",
       "  </thead>\n",
       "  <tbody>\n",
       "    <tr>\n",
       "      <th>211</th>\n",
       "      <td>Order ID</td>\n",
       "      <td>Product</td>\n",
       "      <td>Quantity Ordered</td>\n",
       "      <td>Price Each</td>\n",
       "      <td>Order Date</td>\n",
       "      <td>Purchase Address</td>\n",
       "    </tr>\n",
       "  </tbody>\n",
       "</table>\n",
       "</div>"
      ],
      "text/plain": [
       "     Order ID  Product  Quantity Ordered  Price Each  Order Date  \\\n",
       "211  Order ID  Product  Quantity Ordered  Price Each  Order Date   \n",
       "\n",
       "     Purchase Address  \n",
       "211  Purchase Address  "
      ]
     },
     "execution_count": 25,
     "metadata": {},
     "output_type": "execute_result"
    }
   ],
   "source": [
    "temp_df = main_df[main_df['Quantity Ordered'] == 'Quantity Ordered']\n",
    "temp_df"
   ]
  },
  {
   "cell_type": "markdown",
   "id": "55101f31",
   "metadata": {},
   "source": [
    "## There are some tuples in our datasets whose values are exactly same as their column names. Thus, we need to remove these tuples."
   ]
  },
  {
   "cell_type": "code",
   "execution_count": 26,
   "id": "5d4219ae",
   "metadata": {},
   "outputs": [
    {
     "data": {
      "text/plain": [
       "(185686, 6)"
      ]
     },
     "execution_count": 26,
     "metadata": {},
     "output_type": "execute_result"
    }
   ],
   "source": [
    "main_df = main_df[main_df['Quantity Ordered'] != 'Quantity Ordered']\n",
    "main_df.shape\n"
   ]
  },
  {
   "cell_type": "markdown",
   "id": "213d67db",
   "metadata": {},
   "source": [
    "## Okay, Only one of tuple with index location 211 consists of tuples with values equal to their column names. Other duplicated tuples are droped before using drop_duplicates()"
   ]
  },
  {
   "cell_type": "code",
   "execution_count": 27,
   "id": "84966ed3",
   "metadata": {},
   "outputs": [
    {
     "name": "stderr",
     "output_type": "stream",
     "text": [
      "C:\\Users\\xpert\\AppData\\Local\\Temp/ipykernel_9212/3115133462.py:1: SettingWithCopyWarning: \n",
      "A value is trying to be set on a copy of a slice from a DataFrame.\n",
      "Try using .loc[row_indexer,col_indexer] = value instead\n",
      "\n",
      "See the caveats in the documentation: https://pandas.pydata.org/pandas-docs/stable/user_guide/indexing.html#returning-a-view-versus-a-copy\n",
      "  main_df['Quantity Ordered'] = pd.to_numeric(main_df['Quantity Ordered'])\n",
      "C:\\Users\\xpert\\AppData\\Local\\Temp/ipykernel_9212/3115133462.py:2: SettingWithCopyWarning: \n",
      "A value is trying to be set on a copy of a slice from a DataFrame.\n",
      "Try using .loc[row_indexer,col_indexer] = value instead\n",
      "\n",
      "See the caveats in the documentation: https://pandas.pydata.org/pandas-docs/stable/user_guide/indexing.html#returning-a-view-versus-a-copy\n",
      "  main_df['Price Each'] = pd.to_numeric(main_df['Price Each'])\n"
     ]
    },
    {
     "data": {
      "text/html": [
       "<div>\n",
       "<style scoped>\n",
       "    .dataframe tbody tr th:only-of-type {\n",
       "        vertical-align: middle;\n",
       "    }\n",
       "\n",
       "    .dataframe tbody tr th {\n",
       "        vertical-align: top;\n",
       "    }\n",
       "\n",
       "    .dataframe thead th {\n",
       "        text-align: right;\n",
       "    }\n",
       "</style>\n",
       "<table border=\"1\" class=\"dataframe\">\n",
       "  <thead>\n",
       "    <tr style=\"text-align: right;\">\n",
       "      <th></th>\n",
       "      <th>Order ID</th>\n",
       "      <th>Product</th>\n",
       "      <th>Quantity Ordered</th>\n",
       "      <th>Price Each</th>\n",
       "      <th>Order Date</th>\n",
       "      <th>Purchase Address</th>\n",
       "    </tr>\n",
       "  </thead>\n",
       "  <tbody>\n",
       "    <tr>\n",
       "      <th>0</th>\n",
       "      <td>236670</td>\n",
       "      <td>Wired Headphones</td>\n",
       "      <td>2</td>\n",
       "      <td>11.99</td>\n",
       "      <td>08/31/19 22:21</td>\n",
       "      <td>359 Spruce St, Seattle, WA 98101</td>\n",
       "    </tr>\n",
       "    <tr>\n",
       "      <th>1</th>\n",
       "      <td>236671</td>\n",
       "      <td>Bose SoundSport Headphones</td>\n",
       "      <td>1</td>\n",
       "      <td>99.99</td>\n",
       "      <td>08/15/19 15:11</td>\n",
       "      <td>492 Ridge St, Dallas, TX 75001</td>\n",
       "    </tr>\n",
       "    <tr>\n",
       "      <th>2</th>\n",
       "      <td>236672</td>\n",
       "      <td>iPhone</td>\n",
       "      <td>1</td>\n",
       "      <td>700.00</td>\n",
       "      <td>08/06/19 14:40</td>\n",
       "      <td>149 7th St, Portland, OR 97035</td>\n",
       "    </tr>\n",
       "    <tr>\n",
       "      <th>3</th>\n",
       "      <td>236673</td>\n",
       "      <td>AA Batteries (4-pack)</td>\n",
       "      <td>2</td>\n",
       "      <td>3.84</td>\n",
       "      <td>08/29/19 20:59</td>\n",
       "      <td>631 2nd St, Los Angeles, CA 90001</td>\n",
       "    </tr>\n",
       "    <tr>\n",
       "      <th>4</th>\n",
       "      <td>236674</td>\n",
       "      <td>AA Batteries (4-pack)</td>\n",
       "      <td>2</td>\n",
       "      <td>3.84</td>\n",
       "      <td>08/15/19 19:53</td>\n",
       "      <td>736 14th St, New York City, NY 10001</td>\n",
       "    </tr>\n",
       "  </tbody>\n",
       "</table>\n",
       "</div>"
      ],
      "text/plain": [
       "  Order ID                     Product  Quantity Ordered  Price Each  \\\n",
       "0   236670            Wired Headphones                 2       11.99   \n",
       "1   236671  Bose SoundSport Headphones                 1       99.99   \n",
       "2   236672                      iPhone                 1      700.00   \n",
       "3   236673       AA Batteries (4-pack)                 2        3.84   \n",
       "4   236674       AA Batteries (4-pack)                 2        3.84   \n",
       "\n",
       "       Order Date                      Purchase Address  \n",
       "0  08/31/19 22:21      359 Spruce St, Seattle, WA 98101  \n",
       "1  08/15/19 15:11        492 Ridge St, Dallas, TX 75001  \n",
       "2  08/06/19 14:40        149 7th St, Portland, OR 97035  \n",
       "3  08/29/19 20:59     631 2nd St, Los Angeles, CA 90001  \n",
       "4  08/15/19 19:53  736 14th St, New York City, NY 10001  "
      ]
     },
     "execution_count": 27,
     "metadata": {},
     "output_type": "execute_result"
    }
   ],
   "source": [
    "main_df['Quantity Ordered'] = pd.to_numeric(main_df['Quantity Ordered'])\n",
    "main_df['Price Each'] = pd.to_numeric(main_df['Price Each'])\n",
    "main_df.head()"
   ]
  },
  {
   "cell_type": "code",
   "execution_count": 28,
   "id": "4ac325ea",
   "metadata": {},
   "outputs": [
    {
     "data": {
      "text/html": [
       "<div>\n",
       "<style scoped>\n",
       "    .dataframe tbody tr th:only-of-type {\n",
       "        vertical-align: middle;\n",
       "    }\n",
       "\n",
       "    .dataframe tbody tr th {\n",
       "        vertical-align: top;\n",
       "    }\n",
       "\n",
       "    .dataframe thead th {\n",
       "        text-align: right;\n",
       "    }\n",
       "</style>\n",
       "<table border=\"1\" class=\"dataframe\">\n",
       "  <thead>\n",
       "    <tr style=\"text-align: right;\">\n",
       "      <th></th>\n",
       "      <th>Order ID</th>\n",
       "      <th>Product</th>\n",
       "      <th>Quantity Ordered</th>\n",
       "      <th>Price Each</th>\n",
       "      <th>Order Date</th>\n",
       "      <th>Purchase Address</th>\n",
       "    </tr>\n",
       "  </thead>\n",
       "  <tbody>\n",
       "    <tr>\n",
       "      <th>0</th>\n",
       "      <td>236670</td>\n",
       "      <td>Wired Headphones</td>\n",
       "      <td>2</td>\n",
       "      <td>11.99</td>\n",
       "      <td>08/31/19 22:21</td>\n",
       "      <td>359 Spruce St, Seattle, WA 98101</td>\n",
       "    </tr>\n",
       "    <tr>\n",
       "      <th>1</th>\n",
       "      <td>236671</td>\n",
       "      <td>Bose SoundSport Headphones</td>\n",
       "      <td>1</td>\n",
       "      <td>99.99</td>\n",
       "      <td>08/15/19 15:11</td>\n",
       "      <td>492 Ridge St, Dallas, TX 75001</td>\n",
       "    </tr>\n",
       "    <tr>\n",
       "      <th>2</th>\n",
       "      <td>236672</td>\n",
       "      <td>iPhone</td>\n",
       "      <td>1</td>\n",
       "      <td>700.00</td>\n",
       "      <td>08/06/19 14:40</td>\n",
       "      <td>149 7th St, Portland, OR 97035</td>\n",
       "    </tr>\n",
       "    <tr>\n",
       "      <th>3</th>\n",
       "      <td>236673</td>\n",
       "      <td>AA Batteries (4-pack)</td>\n",
       "      <td>2</td>\n",
       "      <td>3.84</td>\n",
       "      <td>08/29/19 20:59</td>\n",
       "      <td>631 2nd St, Los Angeles, CA 90001</td>\n",
       "    </tr>\n",
       "    <tr>\n",
       "      <th>4</th>\n",
       "      <td>236674</td>\n",
       "      <td>AA Batteries (4-pack)</td>\n",
       "      <td>2</td>\n",
       "      <td>3.84</td>\n",
       "      <td>08/15/19 19:53</td>\n",
       "      <td>736 14th St, New York City, NY 10001</td>\n",
       "    </tr>\n",
       "  </tbody>\n",
       "</table>\n",
       "</div>"
      ],
      "text/plain": [
       "  Order ID                     Product  Quantity Ordered  Price Each  \\\n",
       "0   236670            Wired Headphones                 2       11.99   \n",
       "1   236671  Bose SoundSport Headphones                 1       99.99   \n",
       "2   236672                      iPhone                 1      700.00   \n",
       "3   236673       AA Batteries (4-pack)                 2        3.84   \n",
       "4   236674       AA Batteries (4-pack)                 2        3.84   \n",
       "\n",
       "       Order Date                      Purchase Address  \n",
       "0  08/31/19 22:21      359 Spruce St, Seattle, WA 98101  \n",
       "1  08/15/19 15:11        492 Ridge St, Dallas, TX 75001  \n",
       "2  08/06/19 14:40        149 7th St, Portland, OR 97035  \n",
       "3  08/29/19 20:59     631 2nd St, Los Angeles, CA 90001  \n",
       "4  08/15/19 19:53  736 14th St, New York City, NY 10001  "
      ]
     },
     "execution_count": 28,
     "metadata": {},
     "output_type": "execute_result"
    }
   ],
   "source": [
    "main_df.head()"
   ]
  },
  {
   "cell_type": "code",
   "execution_count": 29,
   "id": "919bcc33",
   "metadata": {},
   "outputs": [
    {
     "name": "stderr",
     "output_type": "stream",
     "text": [
      "C:\\Users\\xpert\\AppData\\Local\\Temp/ipykernel_9212/773193667.py:1: SettingWithCopyWarning: \n",
      "A value is trying to be set on a copy of a slice from a DataFrame.\n",
      "Try using .loc[row_indexer,col_indexer] = value instead\n",
      "\n",
      "See the caveats in the documentation: https://pandas.pydata.org/pandas-docs/stable/user_guide/indexing.html#returning-a-view-versus-a-copy\n",
      "  main_df['Sales'] = main_df['Quantity Ordered'] * main_df['Price Each']\n"
     ]
    },
    {
     "data": {
      "text/html": [
       "<div>\n",
       "<style scoped>\n",
       "    .dataframe tbody tr th:only-of-type {\n",
       "        vertical-align: middle;\n",
       "    }\n",
       "\n",
       "    .dataframe tbody tr th {\n",
       "        vertical-align: top;\n",
       "    }\n",
       "\n",
       "    .dataframe thead th {\n",
       "        text-align: right;\n",
       "    }\n",
       "</style>\n",
       "<table border=\"1\" class=\"dataframe\">\n",
       "  <thead>\n",
       "    <tr style=\"text-align: right;\">\n",
       "      <th></th>\n",
       "      <th>Order ID</th>\n",
       "      <th>Product</th>\n",
       "      <th>Quantity Ordered</th>\n",
       "      <th>Price Each</th>\n",
       "      <th>Order Date</th>\n",
       "      <th>Purchase Address</th>\n",
       "      <th>Sales</th>\n",
       "    </tr>\n",
       "  </thead>\n",
       "  <tbody>\n",
       "    <tr>\n",
       "      <th>0</th>\n",
       "      <td>236670</td>\n",
       "      <td>Wired Headphones</td>\n",
       "      <td>2</td>\n",
       "      <td>11.99</td>\n",
       "      <td>08/31/19 22:21</td>\n",
       "      <td>359 Spruce St, Seattle, WA 98101</td>\n",
       "      <td>23.98</td>\n",
       "    </tr>\n",
       "    <tr>\n",
       "      <th>1</th>\n",
       "      <td>236671</td>\n",
       "      <td>Bose SoundSport Headphones</td>\n",
       "      <td>1</td>\n",
       "      <td>99.99</td>\n",
       "      <td>08/15/19 15:11</td>\n",
       "      <td>492 Ridge St, Dallas, TX 75001</td>\n",
       "      <td>99.99</td>\n",
       "    </tr>\n",
       "    <tr>\n",
       "      <th>2</th>\n",
       "      <td>236672</td>\n",
       "      <td>iPhone</td>\n",
       "      <td>1</td>\n",
       "      <td>700.00</td>\n",
       "      <td>08/06/19 14:40</td>\n",
       "      <td>149 7th St, Portland, OR 97035</td>\n",
       "      <td>700.00</td>\n",
       "    </tr>\n",
       "    <tr>\n",
       "      <th>3</th>\n",
       "      <td>236673</td>\n",
       "      <td>AA Batteries (4-pack)</td>\n",
       "      <td>2</td>\n",
       "      <td>3.84</td>\n",
       "      <td>08/29/19 20:59</td>\n",
       "      <td>631 2nd St, Los Angeles, CA 90001</td>\n",
       "      <td>7.68</td>\n",
       "    </tr>\n",
       "    <tr>\n",
       "      <th>4</th>\n",
       "      <td>236674</td>\n",
       "      <td>AA Batteries (4-pack)</td>\n",
       "      <td>2</td>\n",
       "      <td>3.84</td>\n",
       "      <td>08/15/19 19:53</td>\n",
       "      <td>736 14th St, New York City, NY 10001</td>\n",
       "      <td>7.68</td>\n",
       "    </tr>\n",
       "  </tbody>\n",
       "</table>\n",
       "</div>"
      ],
      "text/plain": [
       "  Order ID                     Product  Quantity Ordered  Price Each  \\\n",
       "0   236670            Wired Headphones                 2       11.99   \n",
       "1   236671  Bose SoundSport Headphones                 1       99.99   \n",
       "2   236672                      iPhone                 1      700.00   \n",
       "3   236673       AA Batteries (4-pack)                 2        3.84   \n",
       "4   236674       AA Batteries (4-pack)                 2        3.84   \n",
       "\n",
       "       Order Date                      Purchase Address   Sales  \n",
       "0  08/31/19 22:21      359 Spruce St, Seattle, WA 98101   23.98  \n",
       "1  08/15/19 15:11        492 Ridge St, Dallas, TX 75001   99.99  \n",
       "2  08/06/19 14:40        149 7th St, Portland, OR 97035  700.00  \n",
       "3  08/29/19 20:59     631 2nd St, Los Angeles, CA 90001    7.68  \n",
       "4  08/15/19 19:53  736 14th St, New York City, NY 10001    7.68  "
      ]
     },
     "execution_count": 29,
     "metadata": {},
     "output_type": "execute_result"
    }
   ],
   "source": [
    "main_df['Sales'] = main_df['Quantity Ordered'] * main_df['Price Each']\n",
    "main_df.head()"
   ]
  },
  {
   "cell_type": "markdown",
   "id": "658f8ebc",
   "metadata": {},
   "source": [
    "## added the sales column"
   ]
  },
  {
   "cell_type": "code",
   "execution_count": 30,
   "id": "cf70aa6f",
   "metadata": {},
   "outputs": [
    {
     "name": "stderr",
     "output_type": "stream",
     "text": [
      "C:\\Users\\xpert\\AppData\\Local\\Temp/ipykernel_9212/2494580907.py:1: SettingWithCopyWarning: \n",
      "A value is trying to be set on a copy of a slice from a DataFrame.\n",
      "Try using .loc[row_indexer,col_indexer] = value instead\n",
      "\n",
      "See the caveats in the documentation: https://pandas.pydata.org/pandas-docs/stable/user_guide/indexing.html#returning-a-view-versus-a-copy\n",
      "  main_df['Order Date'] = pd.to_datetime(main_df['Order Date'])\n"
     ]
    },
    {
     "data": {
      "text/plain": [
       "dtype('<M8[ns]')"
      ]
     },
     "execution_count": 30,
     "metadata": {},
     "output_type": "execute_result"
    }
   ],
   "source": [
    "main_df['Order Date'] = pd.to_datetime(main_df['Order Date'])\n",
    "main_df['Order Date'].dtypes"
   ]
  },
  {
   "cell_type": "markdown",
   "id": "f25cc0ed",
   "metadata": {},
   "source": []
  },
  {
   "cell_type": "markdown",
   "id": "1cf2ab87",
   "metadata": {},
   "source": [
    "## Data Preparation\n",
    "### Add Month, Hour, Minute, Sales, Cities Column"
   ]
  },
  {
   "cell_type": "code",
   "execution_count": 31,
   "id": "f9e5cec9",
   "metadata": {},
   "outputs": [
    {
     "name": "stderr",
     "output_type": "stream",
     "text": [
      "C:\\Users\\xpert\\AppData\\Local\\Temp/ipykernel_9212/1933629931.py:22: SettingWithCopyWarning: \n",
      "A value is trying to be set on a copy of a slice from a DataFrame.\n",
      "Try using .loc[row_indexer,col_indexer] = value instead\n",
      "\n",
      "See the caveats in the documentation: https://pandas.pydata.org/pandas-docs/stable/user_guide/indexing.html#returning-a-view-versus-a-copy\n",
      "  data['Year'] = data['Order Date'].dt.year\n",
      "C:\\Users\\xpert\\AppData\\Local\\Temp/ipykernel_9212/1933629931.py:25: SettingWithCopyWarning: \n",
      "A value is trying to be set on a copy of a slice from a DataFrame.\n",
      "Try using .loc[row_indexer,col_indexer] = value instead\n",
      "\n",
      "See the caveats in the documentation: https://pandas.pydata.org/pandas-docs/stable/user_guide/indexing.html#returning-a-view-versus-a-copy\n",
      "  data['Month'] = data['Order Date'].dt.month\n",
      "C:\\Users\\xpert\\AppData\\Local\\Temp/ipykernel_9212/1933629931.py:28: SettingWithCopyWarning: \n",
      "A value is trying to be set on a copy of a slice from a DataFrame.\n",
      "Try using .loc[row_indexer,col_indexer] = value instead\n",
      "\n",
      "See the caveats in the documentation: https://pandas.pydata.org/pandas-docs/stable/user_guide/indexing.html#returning-a-view-versus-a-copy\n",
      "  data['Hour'] = data['Order Date'].dt.hour\n",
      "C:\\Users\\xpert\\AppData\\Local\\Temp/ipykernel_9212/1933629931.py:31: SettingWithCopyWarning: \n",
      "A value is trying to be set on a copy of a slice from a DataFrame.\n",
      "Try using .loc[row_indexer,col_indexer] = value instead\n",
      "\n",
      "See the caveats in the documentation: https://pandas.pydata.org/pandas-docs/stable/user_guide/indexing.html#returning-a-view-versus-a-copy\n",
      "  data['Minute'] = data['Order Date'].dt.minute\n",
      "C:\\Users\\xpert\\AppData\\Local\\Temp/ipykernel_9212/1933629931.py:34: SettingWithCopyWarning: \n",
      "A value is trying to be set on a copy of a slice from a DataFrame.\n",
      "Try using .loc[row_indexer,col_indexer] = value instead\n",
      "\n",
      "See the caveats in the documentation: https://pandas.pydata.org/pandas-docs/stable/user_guide/indexing.html#returning-a-view-versus-a-copy\n",
      "  data['Sales'] = data['Quantity Ordered'] * data['Price Each']\n",
      "C:\\Users\\xpert\\AppData\\Local\\Temp/ipykernel_9212/1933629931.py:37: SettingWithCopyWarning: \n",
      "A value is trying to be set on a copy of a slice from a DataFrame.\n",
      "Try using .loc[row_indexer,col_indexer] = value instead\n",
      "\n",
      "See the caveats in the documentation: https://pandas.pydata.org/pandas-docs/stable/user_guide/indexing.html#returning-a-view-versus-a-copy\n",
      "  data['Cities'] = data['Purchase Address'].apply(lambda x: f\"{get_city(x)} ({get_state(x)})\")\n"
     ]
    },
    {
     "data": {
      "text/html": [
       "<div>\n",
       "<style scoped>\n",
       "    .dataframe tbody tr th:only-of-type {\n",
       "        vertical-align: middle;\n",
       "    }\n",
       "\n",
       "    .dataframe tbody tr th {\n",
       "        vertical-align: top;\n",
       "    }\n",
       "\n",
       "    .dataframe thead th {\n",
       "        text-align: right;\n",
       "    }\n",
       "</style>\n",
       "<table border=\"1\" class=\"dataframe\">\n",
       "  <thead>\n",
       "    <tr style=\"text-align: right;\">\n",
       "      <th></th>\n",
       "      <th>Order ID</th>\n",
       "      <th>Product</th>\n",
       "      <th>Quantity Ordered</th>\n",
       "      <th>Price Each</th>\n",
       "      <th>Order Date</th>\n",
       "      <th>Purchase Address</th>\n",
       "      <th>Sales</th>\n",
       "      <th>Year</th>\n",
       "      <th>Month</th>\n",
       "      <th>Hour</th>\n",
       "      <th>Minute</th>\n",
       "      <th>Cities</th>\n",
       "    </tr>\n",
       "  </thead>\n",
       "  <tbody>\n",
       "    <tr>\n",
       "      <th>0</th>\n",
       "      <td>236670</td>\n",
       "      <td>Wired Headphones</td>\n",
       "      <td>2</td>\n",
       "      <td>11.99</td>\n",
       "      <td>2019-08-31 22:21:00</td>\n",
       "      <td>359 Spruce St, Seattle, WA 98101</td>\n",
       "      <td>23.98</td>\n",
       "      <td>2019</td>\n",
       "      <td>8</td>\n",
       "      <td>22</td>\n",
       "      <td>21</td>\n",
       "      <td>Seattle (WA)</td>\n",
       "    </tr>\n",
       "    <tr>\n",
       "      <th>1</th>\n",
       "      <td>236671</td>\n",
       "      <td>Bose SoundSport Headphones</td>\n",
       "      <td>1</td>\n",
       "      <td>99.99</td>\n",
       "      <td>2019-08-15 15:11:00</td>\n",
       "      <td>492 Ridge St, Dallas, TX 75001</td>\n",
       "      <td>99.99</td>\n",
       "      <td>2019</td>\n",
       "      <td>8</td>\n",
       "      <td>15</td>\n",
       "      <td>11</td>\n",
       "      <td>Dallas (TX)</td>\n",
       "    </tr>\n",
       "    <tr>\n",
       "      <th>2</th>\n",
       "      <td>236672</td>\n",
       "      <td>iPhone</td>\n",
       "      <td>1</td>\n",
       "      <td>700.00</td>\n",
       "      <td>2019-08-06 14:40:00</td>\n",
       "      <td>149 7th St, Portland, OR 97035</td>\n",
       "      <td>700.00</td>\n",
       "      <td>2019</td>\n",
       "      <td>8</td>\n",
       "      <td>14</td>\n",
       "      <td>40</td>\n",
       "      <td>Portland (OR)</td>\n",
       "    </tr>\n",
       "    <tr>\n",
       "      <th>3</th>\n",
       "      <td>236673</td>\n",
       "      <td>AA Batteries (4-pack)</td>\n",
       "      <td>2</td>\n",
       "      <td>3.84</td>\n",
       "      <td>2019-08-29 20:59:00</td>\n",
       "      <td>631 2nd St, Los Angeles, CA 90001</td>\n",
       "      <td>7.68</td>\n",
       "      <td>2019</td>\n",
       "      <td>8</td>\n",
       "      <td>20</td>\n",
       "      <td>59</td>\n",
       "      <td>Los Angeles (CA)</td>\n",
       "    </tr>\n",
       "    <tr>\n",
       "      <th>4</th>\n",
       "      <td>236674</td>\n",
       "      <td>AA Batteries (4-pack)</td>\n",
       "      <td>2</td>\n",
       "      <td>3.84</td>\n",
       "      <td>2019-08-15 19:53:00</td>\n",
       "      <td>736 14th St, New York City, NY 10001</td>\n",
       "      <td>7.68</td>\n",
       "      <td>2019</td>\n",
       "      <td>8</td>\n",
       "      <td>19</td>\n",
       "      <td>53</td>\n",
       "      <td>New York City (NY)</td>\n",
       "    </tr>\n",
       "  </tbody>\n",
       "</table>\n",
       "</div>"
      ],
      "text/plain": [
       "  Order ID                     Product  Quantity Ordered  Price Each  \\\n",
       "0   236670            Wired Headphones                 2       11.99   \n",
       "1   236671  Bose SoundSport Headphones                 1       99.99   \n",
       "2   236672                      iPhone                 1      700.00   \n",
       "3   236673       AA Batteries (4-pack)                 2        3.84   \n",
       "4   236674       AA Batteries (4-pack)                 2        3.84   \n",
       "\n",
       "           Order Date                      Purchase Address   Sales  Year  \\\n",
       "0 2019-08-31 22:21:00      359 Spruce St, Seattle, WA 98101   23.98  2019   \n",
       "1 2019-08-15 15:11:00        492 Ridge St, Dallas, TX 75001   99.99  2019   \n",
       "2 2019-08-06 14:40:00        149 7th St, Portland, OR 97035  700.00  2019   \n",
       "3 2019-08-29 20:59:00     631 2nd St, Los Angeles, CA 90001    7.68  2019   \n",
       "4 2019-08-15 19:53:00  736 14th St, New York City, NY 10001    7.68  2019   \n",
       "\n",
       "   Month  Hour  Minute               Cities  \n",
       "0      8    22      21         Seattle (WA)  \n",
       "1      8    15      11          Dallas (TX)  \n",
       "2      8    14      40        Portland (OR)  \n",
       "3      8    20      59     Los Angeles (CA)  \n",
       "4      8    19      53   New York City (NY)  "
      ]
     },
     "execution_count": 31,
     "metadata": {},
     "output_type": "execute_result"
    }
   ],
   "source": [
    "def augment_data(data):\n",
    "    \n",
    "    \"\"\"\n",
    "    Adding new features to\n",
    "    our data, adding Month Data,\n",
    "    Hour Data, Minute Data, Sales Data,\n",
    "    and Cities Column\n",
    "    \n",
    "    Returning:\n",
    "        data with new features\n",
    "    \"\"\"\n",
    "    \n",
    "    # funtction to get the city in the data\n",
    "    def get_city(address):\n",
    "        return address.split(',')[1]\n",
    "    \n",
    "    # funtction to get the state in the data\n",
    "    def get_state(address):\n",
    "        return address.split(',')[2].split(' ')[1]\n",
    "\n",
    "    # let's get the year data in order date column\n",
    "    data['Year'] = data['Order Date'].dt.year\n",
    "    \n",
    "    # let's get the month data in order date column\n",
    "    data['Month'] = data['Order Date'].dt.month\n",
    "    \n",
    "    # let's get the houe data in order date column\n",
    "    data['Hour'] = data['Order Date'].dt.hour \n",
    "    \n",
    "    # let's get the minute data in order date column\n",
    "    data['Minute'] = data['Order Date'].dt.minute \n",
    "    \n",
    "    # let's make the sales column by multiplying the quantity ordered colum with price each column\n",
    "    data['Sales'] = data['Quantity Ordered'] * data['Price Each'] \n",
    "    \n",
    "    # let's get the cities data in order date column\n",
    "    data['Cities'] = data['Purchase Address'].apply(lambda x: f\"{get_city(x)} ({get_state(x)})\") \n",
    "    \n",
    "    return data # returning data\n",
    "\n",
    "# and see it\n",
    "main_df = augment_data(main_df)\n",
    "main_df.head()"
   ]
  },
  {
   "cell_type": "code",
   "execution_count": 35,
   "id": "366db093",
   "metadata": {},
   "outputs": [
    {
     "name": "stderr",
     "output_type": "stream",
     "text": [
      "C:\\Users\\xpert\\AppData\\Local\\Temp/ipykernel_9212/1456228064.py:1: SettingWithCopyWarning: \n",
      "A value is trying to be set on a copy of a slice from a DataFrame.\n",
      "Try using .loc[row_indexer,col_indexer] = value instead\n",
      "\n",
      "See the caveats in the documentation: https://pandas.pydata.org/pandas-docs/stable/user_guide/indexing.html#returning-a-view-versus-a-copy\n",
      "  main_df['Month_l'] = main_df['Month'].replace({1:'Jan', 2:'Feb', 3:'Mar', 4:'Apr',\n"
     ]
    },
    {
     "data": {
      "text/html": [
       "<div>\n",
       "<style scoped>\n",
       "    .dataframe tbody tr th:only-of-type {\n",
       "        vertical-align: middle;\n",
       "    }\n",
       "\n",
       "    .dataframe tbody tr th {\n",
       "        vertical-align: top;\n",
       "    }\n",
       "\n",
       "    .dataframe thead th {\n",
       "        text-align: right;\n",
       "    }\n",
       "</style>\n",
       "<table border=\"1\" class=\"dataframe\">\n",
       "  <thead>\n",
       "    <tr style=\"text-align: right;\">\n",
       "      <th></th>\n",
       "      <th>Order ID</th>\n",
       "      <th>Product</th>\n",
       "      <th>Quantity Ordered</th>\n",
       "      <th>Price Each</th>\n",
       "      <th>Order Date</th>\n",
       "      <th>Purchase Address</th>\n",
       "      <th>Sales</th>\n",
       "      <th>Year</th>\n",
       "      <th>Month</th>\n",
       "      <th>Hour</th>\n",
       "      <th>Minute</th>\n",
       "      <th>Cities</th>\n",
       "      <th>Month_l</th>\n",
       "    </tr>\n",
       "  </thead>\n",
       "  <tbody>\n",
       "    <tr>\n",
       "      <th>0</th>\n",
       "      <td>236670</td>\n",
       "      <td>Wired Headphones</td>\n",
       "      <td>2</td>\n",
       "      <td>11.99</td>\n",
       "      <td>2019-08-31 22:21:00</td>\n",
       "      <td>359 Spruce St, Seattle, WA 98101</td>\n",
       "      <td>23.98</td>\n",
       "      <td>2019</td>\n",
       "      <td>8</td>\n",
       "      <td>22</td>\n",
       "      <td>21</td>\n",
       "      <td>Seattle (WA)</td>\n",
       "      <td>Aug</td>\n",
       "    </tr>\n",
       "    <tr>\n",
       "      <th>1</th>\n",
       "      <td>236671</td>\n",
       "      <td>Bose SoundSport Headphones</td>\n",
       "      <td>1</td>\n",
       "      <td>99.99</td>\n",
       "      <td>2019-08-15 15:11:00</td>\n",
       "      <td>492 Ridge St, Dallas, TX 75001</td>\n",
       "      <td>99.99</td>\n",
       "      <td>2019</td>\n",
       "      <td>8</td>\n",
       "      <td>15</td>\n",
       "      <td>11</td>\n",
       "      <td>Dallas (TX)</td>\n",
       "      <td>Aug</td>\n",
       "    </tr>\n",
       "    <tr>\n",
       "      <th>2</th>\n",
       "      <td>236672</td>\n",
       "      <td>iPhone</td>\n",
       "      <td>1</td>\n",
       "      <td>700.00</td>\n",
       "      <td>2019-08-06 14:40:00</td>\n",
       "      <td>149 7th St, Portland, OR 97035</td>\n",
       "      <td>700.00</td>\n",
       "      <td>2019</td>\n",
       "      <td>8</td>\n",
       "      <td>14</td>\n",
       "      <td>40</td>\n",
       "      <td>Portland (OR)</td>\n",
       "      <td>Aug</td>\n",
       "    </tr>\n",
       "    <tr>\n",
       "      <th>3</th>\n",
       "      <td>236673</td>\n",
       "      <td>AA Batteries (4-pack)</td>\n",
       "      <td>2</td>\n",
       "      <td>3.84</td>\n",
       "      <td>2019-08-29 20:59:00</td>\n",
       "      <td>631 2nd St, Los Angeles, CA 90001</td>\n",
       "      <td>7.68</td>\n",
       "      <td>2019</td>\n",
       "      <td>8</td>\n",
       "      <td>20</td>\n",
       "      <td>59</td>\n",
       "      <td>Los Angeles (CA)</td>\n",
       "      <td>Aug</td>\n",
       "    </tr>\n",
       "    <tr>\n",
       "      <th>4</th>\n",
       "      <td>236674</td>\n",
       "      <td>AA Batteries (4-pack)</td>\n",
       "      <td>2</td>\n",
       "      <td>3.84</td>\n",
       "      <td>2019-08-15 19:53:00</td>\n",
       "      <td>736 14th St, New York City, NY 10001</td>\n",
       "      <td>7.68</td>\n",
       "      <td>2019</td>\n",
       "      <td>8</td>\n",
       "      <td>19</td>\n",
       "      <td>53</td>\n",
       "      <td>New York City (NY)</td>\n",
       "      <td>Aug</td>\n",
       "    </tr>\n",
       "  </tbody>\n",
       "</table>\n",
       "</div>"
      ],
      "text/plain": [
       "  Order ID                     Product  Quantity Ordered  Price Each  \\\n",
       "0   236670            Wired Headphones                 2       11.99   \n",
       "1   236671  Bose SoundSport Headphones                 1       99.99   \n",
       "2   236672                      iPhone                 1      700.00   \n",
       "3   236673       AA Batteries (4-pack)                 2        3.84   \n",
       "4   236674       AA Batteries (4-pack)                 2        3.84   \n",
       "\n",
       "           Order Date                      Purchase Address   Sales  Year  \\\n",
       "0 2019-08-31 22:21:00      359 Spruce St, Seattle, WA 98101   23.98  2019   \n",
       "1 2019-08-15 15:11:00        492 Ridge St, Dallas, TX 75001   99.99  2019   \n",
       "2 2019-08-06 14:40:00        149 7th St, Portland, OR 97035  700.00  2019   \n",
       "3 2019-08-29 20:59:00     631 2nd St, Los Angeles, CA 90001    7.68  2019   \n",
       "4 2019-08-15 19:53:00  736 14th St, New York City, NY 10001    7.68  2019   \n",
       "\n",
       "   Month  Hour  Minute               Cities Month_l  \n",
       "0      8    22      21         Seattle (WA)     Aug  \n",
       "1      8    15      11          Dallas (TX)     Aug  \n",
       "2      8    14      40        Portland (OR)     Aug  \n",
       "3      8    20      59     Los Angeles (CA)     Aug  \n",
       "4      8    19      53   New York City (NY)     Aug  "
      ]
     },
     "execution_count": 35,
     "metadata": {},
     "output_type": "execute_result"
    }
   ],
   "source": [
    "main_df['Month_l'] = main_df['Month'].replace({1:'Jan', 2:'Feb', 3:'Mar', 4:'Apr',\n",
    "                                      5:'May', 6:'Jun', 7:'Jul', 8:'Aug', 9:'Sep', 10:'Oct', 11:'Nov', 12:'Dec'})\n",
    "main_df.head()"
   ]
  },
  {
   "cell_type": "markdown",
   "id": "4d7b4e02",
   "metadata": {},
   "source": [
    "## Exploratoty Data Analysis(EDA) & Visualization"
   ]
  },
  {
   "cell_type": "code",
   "execution_count": 32,
   "id": "7b4f2f37",
   "metadata": {},
   "outputs": [
    {
     "data": {
      "text/html": [
       "<div>\n",
       "<style scoped>\n",
       "    .dataframe tbody tr th:only-of-type {\n",
       "        vertical-align: middle;\n",
       "    }\n",
       "\n",
       "    .dataframe tbody tr th {\n",
       "        vertical-align: top;\n",
       "    }\n",
       "\n",
       "    .dataframe thead th {\n",
       "        text-align: right;\n",
       "    }\n",
       "</style>\n",
       "<table border=\"1\" class=\"dataframe\">\n",
       "  <thead>\n",
       "    <tr style=\"text-align: right;\">\n",
       "      <th></th>\n",
       "      <th>Quantity Ordered</th>\n",
       "      <th>Price Each</th>\n",
       "      <th>Sales</th>\n",
       "      <th>Year</th>\n",
       "      <th>Month</th>\n",
       "      <th>Hour</th>\n",
       "      <th>Minute</th>\n",
       "    </tr>\n",
       "  </thead>\n",
       "  <tbody>\n",
       "    <tr>\n",
       "      <th>Quantity Ordered</th>\n",
       "      <td>1.000000</td>\n",
       "      <td>-0.148422</td>\n",
       "      <td>-0.139564</td>\n",
       "      <td>0.002484</td>\n",
       "      <td>0.000831</td>\n",
       "      <td>-0.002211</td>\n",
       "      <td>0.001230</td>\n",
       "    </tr>\n",
       "    <tr>\n",
       "      <th>Price Each</th>\n",
       "      <td>-0.148422</td>\n",
       "      <td>1.000000</td>\n",
       "      <td>0.999202</td>\n",
       "      <td>0.002666</td>\n",
       "      <td>-0.003364</td>\n",
       "      <td>0.001736</td>\n",
       "      <td>-0.002246</td>\n",
       "    </tr>\n",
       "    <tr>\n",
       "      <th>Sales</th>\n",
       "      <td>-0.139564</td>\n",
       "      <td>0.999202</td>\n",
       "      <td>1.000000</td>\n",
       "      <td>0.002820</td>\n",
       "      <td>-0.003454</td>\n",
       "      <td>0.001683</td>\n",
       "      <td>-0.002245</td>\n",
       "    </tr>\n",
       "    <tr>\n",
       "      <th>Year</th>\n",
       "      <td>0.002484</td>\n",
       "      <td>0.002666</td>\n",
       "      <td>0.002820</td>\n",
       "      <td>1.000000</td>\n",
       "      <td>-0.023406</td>\n",
       "      <td>-0.032148</td>\n",
       "      <td>-0.001640</td>\n",
       "    </tr>\n",
       "    <tr>\n",
       "      <th>Month</th>\n",
       "      <td>0.000831</td>\n",
       "      <td>-0.003364</td>\n",
       "      <td>-0.003454</td>\n",
       "      <td>-0.023406</td>\n",
       "      <td>1.000000</td>\n",
       "      <td>0.001786</td>\n",
       "      <td>-0.002239</td>\n",
       "    </tr>\n",
       "    <tr>\n",
       "      <th>Hour</th>\n",
       "      <td>-0.002211</td>\n",
       "      <td>0.001736</td>\n",
       "      <td>0.001683</td>\n",
       "      <td>-0.032148</td>\n",
       "      <td>0.001786</td>\n",
       "      <td>1.000000</td>\n",
       "      <td>-0.015197</td>\n",
       "    </tr>\n",
       "    <tr>\n",
       "      <th>Minute</th>\n",
       "      <td>0.001230</td>\n",
       "      <td>-0.002246</td>\n",
       "      <td>-0.002245</td>\n",
       "      <td>-0.001640</td>\n",
       "      <td>-0.002239</td>\n",
       "      <td>-0.015197</td>\n",
       "      <td>1.000000</td>\n",
       "    </tr>\n",
       "  </tbody>\n",
       "</table>\n",
       "</div>"
      ],
      "text/plain": [
       "                  Quantity Ordered  Price Each     Sales      Year     Month  \\\n",
       "Quantity Ordered          1.000000   -0.148422 -0.139564  0.002484  0.000831   \n",
       "Price Each               -0.148422    1.000000  0.999202  0.002666 -0.003364   \n",
       "Sales                    -0.139564    0.999202  1.000000  0.002820 -0.003454   \n",
       "Year                      0.002484    0.002666  0.002820  1.000000 -0.023406   \n",
       "Month                     0.000831   -0.003364 -0.003454 -0.023406  1.000000   \n",
       "Hour                     -0.002211    0.001736  0.001683 -0.032148  0.001786   \n",
       "Minute                    0.001230   -0.002246 -0.002245 -0.001640 -0.002239   \n",
       "\n",
       "                      Hour    Minute  \n",
       "Quantity Ordered -0.002211  0.001230  \n",
       "Price Each        0.001736 -0.002246  \n",
       "Sales             0.001683 -0.002245  \n",
       "Year             -0.032148 -0.001640  \n",
       "Month             0.001786 -0.002239  \n",
       "Hour              1.000000 -0.015197  \n",
       "Minute           -0.015197  1.000000  "
      ]
     },
     "execution_count": 32,
     "metadata": {},
     "output_type": "execute_result"
    }
   ],
   "source": [
    "main_df.corr()"
   ]
  },
  {
   "cell_type": "code",
   "execution_count": 33,
   "id": "8d5a7fb7",
   "metadata": {},
   "outputs": [
    {
     "data": {
      "image/png": "[encoded data removed]",
      "text/plain": [
       "<Figure size 432x288 with 2 Axes>"
      ]
     },
     "metadata": {
      "needs_background": "light"
     },
     "output_type": "display_data"
    }
   ],
   "source": [
    "sns.heatmap(main_df.corr(), cmap='winter', annot=True );"
   ]
  },
  {
   "cell_type": "markdown",
   "id": "97319836",
   "metadata": {},
   "source": [
    "## Price Each and Sales Attributes are highly correlated.\n",
    "\n",
    "## Since, Sales is directly proportional to Price of Each Items."
   ]
  },
  {
   "cell_type": "markdown",
   "id": "6e0fe3a4",
   "metadata": {},
   "source": [
    "## Determining Top 3 Months with Maximum and Minimum Sales in 2019."
   ]
  },
  {
   "cell_type": "markdown",
   "id": "4b31dbff",
   "metadata": {},
   "source": [
    "# Sorting our main_df by Month."
   ]
  },
  {
   "cell_type": "code",
   "execution_count": 36,
   "id": "3cc5cff4",
   "metadata": {},
   "outputs": [],
   "source": [
    "main_df= main_df.sort_values('Month')"
   ]
  },
  {
   "cell_type": "code",
   "execution_count": 37,
   "id": "457783a7",
   "metadata": {},
   "outputs": [
    {
     "data": {
      "text/html": [
       "<div>\n",
       "<style scoped>\n",
       "    .dataframe tbody tr th:only-of-type {\n",
       "        vertical-align: middle;\n",
       "    }\n",
       "\n",
       "    .dataframe tbody tr th {\n",
       "        vertical-align: top;\n",
       "    }\n",
       "\n",
       "    .dataframe thead th {\n",
       "        text-align: right;\n",
       "    }\n",
       "</style>\n",
       "<table border=\"1\" class=\"dataframe\">\n",
       "  <thead>\n",
       "    <tr style=\"text-align: right;\">\n",
       "      <th></th>\n",
       "      <th>Order ID</th>\n",
       "      <th>Product</th>\n",
       "      <th>Quantity Ordered</th>\n",
       "      <th>Price Each</th>\n",
       "      <th>Order Date</th>\n",
       "      <th>Purchase Address</th>\n",
       "      <th>Sales</th>\n",
       "      <th>Year</th>\n",
       "      <th>Month</th>\n",
       "      <th>Hour</th>\n",
       "      <th>Minute</th>\n",
       "      <th>Cities</th>\n",
       "      <th>Month_l</th>\n",
       "    </tr>\n",
       "  </thead>\n",
       "  <tbody>\n",
       "    <tr>\n",
       "      <th>61134</th>\n",
       "      <td>143879</td>\n",
       "      <td>USB-C Charging Cable</td>\n",
       "      <td>1</td>\n",
       "      <td>11.95</td>\n",
       "      <td>2019-01-28 12:11:00</td>\n",
       "      <td>665 Adams St, San Francisco, CA 94016</td>\n",
       "      <td>11.95</td>\n",
       "      <td>2019</td>\n",
       "      <td>1</td>\n",
       "      <td>12</td>\n",
       "      <td>11</td>\n",
       "      <td>San Francisco (CA)</td>\n",
       "      <td>Jan</td>\n",
       "    </tr>\n",
       "    <tr>\n",
       "      <th>62887</th>\n",
       "      <td>145550</td>\n",
       "      <td>Apple Airpods Headphones</td>\n",
       "      <td>1</td>\n",
       "      <td>150.00</td>\n",
       "      <td>2019-01-30 18:53:00</td>\n",
       "      <td>505 North St, Seattle, WA 98101</td>\n",
       "      <td>150.00</td>\n",
       "      <td>2019</td>\n",
       "      <td>1</td>\n",
       "      <td>18</td>\n",
       "      <td>53</td>\n",
       "      <td>Seattle (WA)</td>\n",
       "      <td>Jan</td>\n",
       "    </tr>\n",
       "    <tr>\n",
       "      <th>62886</th>\n",
       "      <td>145549</td>\n",
       "      <td>Apple Airpods Headphones</td>\n",
       "      <td>1</td>\n",
       "      <td>150.00</td>\n",
       "      <td>2019-01-02 09:45:00</td>\n",
       "      <td>644 1st St, San Francisco, CA 94016</td>\n",
       "      <td>150.00</td>\n",
       "      <td>2019</td>\n",
       "      <td>1</td>\n",
       "      <td>9</td>\n",
       "      <td>45</td>\n",
       "      <td>San Francisco (CA)</td>\n",
       "      <td>Jan</td>\n",
       "    </tr>\n",
       "    <tr>\n",
       "      <th>62885</th>\n",
       "      <td>145548</td>\n",
       "      <td>iPhone</td>\n",
       "      <td>1</td>\n",
       "      <td>700.00</td>\n",
       "      <td>2019-01-04 08:21:00</td>\n",
       "      <td>695 2nd St, Austin, TX 73301</td>\n",
       "      <td>700.00</td>\n",
       "      <td>2019</td>\n",
       "      <td>1</td>\n",
       "      <td>8</td>\n",
       "      <td>21</td>\n",
       "      <td>Austin (TX)</td>\n",
       "      <td>Jan</td>\n",
       "    </tr>\n",
       "    <tr>\n",
       "      <th>62884</th>\n",
       "      <td>145547</td>\n",
       "      <td>AAA Batteries (4-pack)</td>\n",
       "      <td>1</td>\n",
       "      <td>2.99</td>\n",
       "      <td>2019-01-26 23:31:00</td>\n",
       "      <td>446 Madison St, Los Angeles, CA 90001</td>\n",
       "      <td>2.99</td>\n",
       "      <td>2019</td>\n",
       "      <td>1</td>\n",
       "      <td>23</td>\n",
       "      <td>31</td>\n",
       "      <td>Los Angeles (CA)</td>\n",
       "      <td>Jan</td>\n",
       "    </tr>\n",
       "  </tbody>\n",
       "</table>\n",
       "</div>"
      ],
      "text/plain": [
       "      Order ID                   Product  Quantity Ordered  Price Each  \\\n",
       "61134   143879      USB-C Charging Cable                 1       11.95   \n",
       "62887   145550  Apple Airpods Headphones                 1      150.00   \n",
       "62886   145549  Apple Airpods Headphones                 1      150.00   \n",
       "62885   145548                    iPhone                 1      700.00   \n",
       "62884   145547    AAA Batteries (4-pack)                 1        2.99   \n",
       "\n",
       "               Order Date                       Purchase Address   Sales  \\\n",
       "61134 2019-01-28 12:11:00  665 Adams St, San Francisco, CA 94016   11.95   \n",
       "62887 2019-01-30 18:53:00        505 North St, Seattle, WA 98101  150.00   \n",
       "62886 2019-01-02 09:45:00    644 1st St, San Francisco, CA 94016  150.00   \n",
       "62885 2019-01-04 08:21:00           695 2nd St, Austin, TX 73301  700.00   \n",
       "62884 2019-01-26 23:31:00  446 Madison St, Los Angeles, CA 90001    2.99   \n",
       "\n",
       "       Year  Month  Hour  Minute               Cities Month_l  \n",
       "61134  2019      1    12      11   San Francisco (CA)     Jan  \n",
       "62887  2019      1    18      53         Seattle (WA)     Jan  \n",
       "62886  2019      1     9      45   San Francisco (CA)     Jan  \n",
       "62885  2019      1     8      21          Austin (TX)     Jan  \n",
       "62884  2019      1    23      31     Los Angeles (CA)     Jan  "
      ]
     },
     "execution_count": 37,
     "metadata": {},
     "output_type": "execute_result"
    }
   ],
   "source": [
    "main_df.head()"
   ]
  },
  {
   "cell_type": "code",
   "execution_count": 38,
   "id": "dc18c00d",
   "metadata": {},
   "outputs": [
    {
     "data": {
      "text/plain": [
       "0     Jan\n",
       "1     Feb\n",
       "2     Mar\n",
       "3     Apr\n",
       "4     May\n",
       "5     Jun\n",
       "6     Jul\n",
       "7     Aug\n",
       "8     Sep\n",
       "9     Oct\n",
       "10    Nov\n",
       "11    Dec\n",
       "Name: Month_l, dtype: object"
      ]
     },
     "execution_count": 38,
     "metadata": {},
     "output_type": "execute_result"
    }
   ],
   "source": [
    "# Creating monthly_sales dataframe for Ploting...\n",
    "\n",
    "monthly_sales = main_df.groupby('Month_l', sort=False).sum() # sort=False for not arrranging month in Alphabetical Order.\n",
    "monthly_sales.reset_index(inplace=True)\n",
    "monthly_sales['Month_l']"
   ]
  },
  {
   "cell_type": "code",
   "execution_count": 40,
   "id": "63c564c6",
   "metadata": {},
   "outputs": [
    {
     "data": {
      "image/png": "[encoded data removed]",
      "text/plain": [
       "<Figure size 432x288 with 1 Axes>"
      ]
     },
     "metadata": {
      "needs_background": "light"
     },
     "output_type": "display_data"
    }
   ],
   "source": [
    "plt.bar(monthly_sales['Month_l'], monthly_sales['Sales']);"
   ]
  },
  {
   "cell_type": "markdown",
   "id": "90e6f7f3",
   "metadata": {},
   "source": [
    "## In the month of December of year 2019, the maximum sales occurred, may be because of Holiday and Christmas in December and in the month of Jan, the minimum sales occurred."
   ]
  },
  {
   "cell_type": "code",
   "execution_count": 41,
   "id": "21f22ee7",
   "metadata": {},
   "outputs": [
    {
     "data": {
      "text/html": [
       "<div>\n",
       "<style scoped>\n",
       "    .dataframe tbody tr th:only-of-type {\n",
       "        vertical-align: middle;\n",
       "    }\n",
       "\n",
       "    .dataframe tbody tr th {\n",
       "        vertical-align: top;\n",
       "    }\n",
       "\n",
       "    .dataframe thead th {\n",
       "        text-align: right;\n",
       "    }\n",
       "</style>\n",
       "<table border=\"1\" class=\"dataframe\">\n",
       "  <thead>\n",
       "    <tr style=\"text-align: right;\">\n",
       "      <th></th>\n",
       "      <th>Month_l</th>\n",
       "      <th>Quantity Ordered</th>\n",
       "      <th>Price Each</th>\n",
       "      <th>Sales</th>\n",
       "      <th>Year</th>\n",
       "      <th>Month</th>\n",
       "      <th>Hour</th>\n",
       "      <th>Minute</th>\n",
       "    </tr>\n",
       "  </thead>\n",
       "  <tbody>\n",
       "    <tr>\n",
       "      <th>0</th>\n",
       "      <td>Jan</td>\n",
       "      <td>10893</td>\n",
       "      <td>1810924.81</td>\n",
       "      <td>1821413.16</td>\n",
       "      <td>19582315</td>\n",
       "      <td>9699</td>\n",
       "      <td>139339</td>\n",
       "      <td>282230</td>\n",
       "    </tr>\n",
       "    <tr>\n",
       "      <th>1</th>\n",
       "      <td>Feb</td>\n",
       "      <td>13431</td>\n",
       "      <td>2186940.38</td>\n",
       "      <td>2200078.08</td>\n",
       "      <td>24141183</td>\n",
       "      <td>23914</td>\n",
       "      <td>172392</td>\n",
       "      <td>354307</td>\n",
       "    </tr>\n",
       "    <tr>\n",
       "      <th>2</th>\n",
       "      <td>Mar</td>\n",
       "      <td>16979</td>\n",
       "      <td>2789084.64</td>\n",
       "      <td>2804973.35</td>\n",
       "      <td>30543432</td>\n",
       "      <td>45384</td>\n",
       "      <td>218622</td>\n",
       "      <td>446783</td>\n",
       "    </tr>\n",
       "    <tr>\n",
       "      <th>3</th>\n",
       "      <td>Apr</td>\n",
       "      <td>20536</td>\n",
       "      <td>3366218.76</td>\n",
       "      <td>3389217.98</td>\n",
       "      <td>36860883</td>\n",
       "      <td>73028</td>\n",
       "      <td>261916</td>\n",
       "      <td>543611</td>\n",
       "    </tr>\n",
       "    <tr>\n",
       "      <th>4</th>\n",
       "      <td>May</td>\n",
       "      <td>18653</td>\n",
       "      <td>3133134.61</td>\n",
       "      <td>3150616.23</td>\n",
       "      <td>33418488</td>\n",
       "      <td>82760</td>\n",
       "      <td>238580</td>\n",
       "      <td>487579</td>\n",
       "    </tr>\n",
       "  </tbody>\n",
       "</table>\n",
       "</div>"
      ],
      "text/plain": [
       "  Month_l  Quantity Ordered  Price Each       Sales      Year  Month    Hour  \\\n",
       "0     Jan             10893  1810924.81  1821413.16  19582315   9699  139339   \n",
       "1     Feb             13431  2186940.38  2200078.08  24141183  23914  172392   \n",
       "2     Mar             16979  2789084.64  2804973.35  30543432  45384  218622   \n",
       "3     Apr             20536  3366218.76  3389217.98  36860883  73028  261916   \n",
       "4     May             18653  3133134.61  3150616.23  33418488  82760  238580   \n",
       "\n",
       "   Minute  \n",
       "0  282230  \n",
       "1  354307  \n",
       "2  446783  \n",
       "3  543611  \n",
       "4  487579  "
      ]
     },
     "execution_count": 41,
     "metadata": {},
     "output_type": "execute_result"
    }
   ],
   "source": [
    "monthly_sales.head()"
   ]
  },
  {
   "cell_type": "markdown",
   "id": "e6db0b7a",
   "metadata": {},
   "source": [
    "## Displaying Top 3 Months with Maximum and Minimum Sales\n"
   ]
  },
  {
   "cell_type": "code",
   "execution_count": 49,
   "id": "8dd2c78f",
   "metadata": {},
   "outputs": [
    {
     "name": "stdout",
     "output_type": "stream",
     "text": [
      "Top 3 Months with Maximum Sales\n",
      "\n",
      "              Sales\n",
      "Month_l            \n",
      "Dec      4608295.70\n",
      "Oct      3734777.86\n",
      "Apr      3389217.98\n",
      "\n",
      "\n",
      "Top 3 Months with Minimum Sales\n",
      "\n",
      "              Sales\n",
      "Month_l            \n",
      "Jan      1821413.16\n",
      "Sep      2094465.69\n",
      "Feb      2200078.08\n"
     ]
    }
   ],
   "source": [
    "top_3_months=monthly_sales[['Month_l','Sales']].sort_values(by='Sales', ascending=False)[:3].set_index('Month_l')\n",
    "print(f\"Top 3 Months with Maximum Sales\\n\\n{top_3_months}\\n\\n\")\n",
    "bottom_3_months = monthly_sales[['Month_l', 'Sales']].sort_values(by='Sales')[:3].set_index('Month_l')\n",
    "print(f\"Top 3 Months with Minimum Sales\\n\\n{bottom_3_months}\")"
   ]
  },
  {
   "cell_type": "markdown",
   "id": "535829c1",
   "metadata": {},
   "source": [
    "## Top 3 Cities with Maximum and Minimum Sales in year 2019"
   ]
  },
  {
   "cell_type": "code",
   "execution_count": 51,
   "id": "41bda880",
   "metadata": {},
   "outputs": [
    {
     "data": {
      "text/html": [
       "<div>\n",
       "<style scoped>\n",
       "    .dataframe tbody tr th:only-of-type {\n",
       "        vertical-align: middle;\n",
       "    }\n",
       "\n",
       "    .dataframe tbody tr th {\n",
       "        vertical-align: top;\n",
       "    }\n",
       "\n",
       "    .dataframe thead th {\n",
       "        text-align: right;\n",
       "    }\n",
       "</style>\n",
       "<table border=\"1\" class=\"dataframe\">\n",
       "  <thead>\n",
       "    <tr style=\"text-align: right;\">\n",
       "      <th></th>\n",
       "      <th>Quantity Ordered</th>\n",
       "      <th>Sales</th>\n",
       "    </tr>\n",
       "    <tr>\n",
       "      <th>Cities</th>\n",
       "      <th></th>\n",
       "      <th></th>\n",
       "    </tr>\n",
       "  </thead>\n",
       "  <tbody>\n",
       "    <tr>\n",
       "      <th>Atlanta (GA)</th>\n",
       "      <td>16584</td>\n",
       "      <td>2794199.07</td>\n",
       "    </tr>\n",
       "    <tr>\n",
       "      <th>Austin (TX)</th>\n",
       "      <td>11137</td>\n",
       "      <td>1818044.33</td>\n",
       "    </tr>\n",
       "    <tr>\n",
       "      <th>Boston (MA)</th>\n",
       "      <td>22494</td>\n",
       "      <td>3658627.65</td>\n",
       "    </tr>\n",
       "    <tr>\n",
       "      <th>Dallas (TX)</th>\n",
       "      <td>16707</td>\n",
       "      <td>2765373.96</td>\n",
       "    </tr>\n",
       "    <tr>\n",
       "      <th>Los Angeles (CA)</th>\n",
       "      <td>33247</td>\n",
       "      <td>5448304.28</td>\n",
       "    </tr>\n",
       "  </tbody>\n",
       "</table>\n",
       "</div>"
      ],
      "text/plain": [
       "                   Quantity Ordered       Sales\n",
       "Cities                                         \n",
       " Atlanta (GA)                 16584  2794199.07\n",
       " Austin (TX)                  11137  1818044.33\n",
       " Boston (MA)                  22494  3658627.65\n",
       " Dallas (TX)                  16707  2765373.96\n",
       " Los Angeles (CA)             33247  5448304.28"
      ]
     },
     "execution_count": 51,
     "metadata": {},
     "output_type": "execute_result"
    }
   ],
   "source": [
    "city_with_sales_df = main_df.groupby('Cities')[['Quantity Ordered', 'Sales']].sum()\n",
    "city_with_sales_df.head()"
   ]
  },
  {
   "cell_type": "code",
   "execution_count": 55,
   "id": "640c9d09",
   "metadata": {},
   "outputs": [
    {
     "data": {
      "text/html": [
       "<div>\n",
       "<style scoped>\n",
       "    .dataframe tbody tr th:only-of-type {\n",
       "        vertical-align: middle;\n",
       "    }\n",
       "\n",
       "    .dataframe tbody tr th {\n",
       "        vertical-align: top;\n",
       "    }\n",
       "\n",
       "    .dataframe thead th {\n",
       "        text-align: right;\n",
       "    }\n",
       "</style>\n",
       "<table border=\"1\" class=\"dataframe\">\n",
       "  <thead>\n",
       "    <tr style=\"text-align: right;\">\n",
       "      <th></th>\n",
       "      <th>Cities</th>\n",
       "      <th>Quantity Ordered</th>\n",
       "      <th>Sales</th>\n",
       "    </tr>\n",
       "  </thead>\n",
       "  <tbody>\n",
       "    <tr>\n",
       "      <th>0</th>\n",
       "      <td>Atlanta (GA)</td>\n",
       "      <td>16584</td>\n",
       "      <td>2794199.07</td>\n",
       "    </tr>\n",
       "    <tr>\n",
       "      <th>1</th>\n",
       "      <td>Austin (TX)</td>\n",
       "      <td>11137</td>\n",
       "      <td>1818044.33</td>\n",
       "    </tr>\n",
       "    <tr>\n",
       "      <th>2</th>\n",
       "      <td>Boston (MA)</td>\n",
       "      <td>22494</td>\n",
       "      <td>3658627.65</td>\n",
       "    </tr>\n",
       "    <tr>\n",
       "      <th>3</th>\n",
       "      <td>Dallas (TX)</td>\n",
       "      <td>16707</td>\n",
       "      <td>2765373.96</td>\n",
       "    </tr>\n",
       "    <tr>\n",
       "      <th>4</th>\n",
       "      <td>Los Angeles (CA)</td>\n",
       "      <td>33247</td>\n",
       "      <td>5448304.28</td>\n",
       "    </tr>\n",
       "  </tbody>\n",
       "</table>\n",
       "</div>"
      ],
      "text/plain": [
       "              Cities  Quantity Ordered       Sales\n",
       "0       Atlanta (GA)             16584  2794199.07\n",
       "1        Austin (TX)             11137  1818044.33\n",
       "2        Boston (MA)             22494  3658627.65\n",
       "3        Dallas (TX)             16707  2765373.96\n",
       "4   Los Angeles (CA)             33247  5448304.28"
      ]
     },
     "execution_count": 55,
     "metadata": {},
     "output_type": "execute_result"
    }
   ],
   "source": [
    "city_with_sales_df.reset_index(inplace=True)\n",
    "city_with_sales_df.head()"
   ]
  },
  {
   "cell_type": "code",
   "execution_count": 56,
   "id": "e8b62fcf",
   "metadata": {},
   "outputs": [
    {
     "data": {
      "image/png": "[encoded data removed]",
      "text/plain": [
       "<Figure size 1080x720 with 1 Axes>"
      ]
     },
     "metadata": {
      "needs_background": "light"
     },
     "output_type": "display_data"
    }
   ],
   "source": [
    "fig = plt.figure()\n",
    "fig.set_figheight(10)\n",
    "fig.set_figwidth(15)\n",
    "ax = sns.barplot(x=city_with_sales_df['Cities'],\n",
    "                 y=city_with_sales_df['Sales'])\n",
    "ax.set_xticklabels(labels=list(city_with_sales_df['Cities']) , rotation=45, fontsize=12, fontweight='bold')\n",
    "plt.xlabel(xlabel='Cities of USA', fontsize=22, fontweight='bold').set_color('purple')\n",
    "plt.ylabel(ylabel='Sales in million USD', fontsize=22, fontweight='bold').set_color('purple')\n",
    "plt.title(label='City-wise Sales of Year 2019', fontsize=32, fontweight='bold').set_color('purple')\n",
    "labels, location = plt.yticks()\n",
    "plt.yticks(labels, (labels/1000000).astype(int))\n",
    "plt.tight_layout();"
   ]
  },
  {
   "cell_type": "markdown",
   "id": "683734e8",
   "metadata": {},
   "source": [
    "## Displaying Top/Bottom 3 Cities with their Total Sales."
   ]
  },
  {
   "cell_type": "code",
   "execution_count": 58,
   "id": "dc1810bb",
   "metadata": {},
   "outputs": [
    {
     "name": "stdout",
     "output_type": "stream",
     "text": [
      "Top 3 Cities with Maximum Sales\n",
      "\n",
      "                          Sales\n",
      "Cities                         \n",
      " San Francisco (CA)  8254743.55\n",
      " Los Angeles (CA)    5448304.28\n",
      " New York City (NY)  4661867.14\n",
      "\n",
      "\n",
      "Top 3 cities with Minimum Sales\n",
      "\n",
      "                     Sales\n",
      "Cities                    \n",
      " Portland (ME)   449321.38\n",
      " Austin (TX)    1818044.33\n",
      " Portland (OR)  1870010.56\n"
     ]
    }
   ],
   "source": [
    "top_3_cities = city_with_sales_df[['Cities', 'Sales']].sort_values(by='Sales', ascending=False)[:3].set_index('Cities')\n",
    "print(f\"Top 3 Cities with Maximum Sales\\n\\n{top_3_cities}\\n\\n\")\n",
    "bottom_3_cities = city_with_sales_df[['Cities', 'Sales']].sort_values(by='Sales')[:3].set_index('Cities')\n",
    "print(f\"Top 3 cities with Minimum Sales\\n\\n{bottom_3_cities}\")"
   ]
  },
  {
   "cell_type": "markdown",
   "id": "d54639e8",
   "metadata": {},
   "source": [
    "## San Francisco(CA) was the best City of Sales in 2019 with Sales of   8,254,743.55\n",
    "\n",
    "## (ME) was the wrost City of Sales in 2019 with Sales of $ 449,321.38"
   ]
  },
  {
   "cell_type": "markdown",
   "id": "cf593a81",
   "metadata": {},
   "source": [
    "# Mining Best Time to Display Advertisements to Maximize the Sales"
   ]
  },
  {
   "cell_type": "code",
   "execution_count": 59,
   "id": "85388056",
   "metadata": {},
   "outputs": [
    {
     "data": {
      "text/html": [
       "<div>\n",
       "<style scoped>\n",
       "    .dataframe tbody tr th:only-of-type {\n",
       "        vertical-align: middle;\n",
       "    }\n",
       "\n",
       "    .dataframe tbody tr th {\n",
       "        vertical-align: top;\n",
       "    }\n",
       "\n",
       "    .dataframe thead th {\n",
       "        text-align: right;\n",
       "    }\n",
       "</style>\n",
       "<table border=\"1\" class=\"dataframe\">\n",
       "  <thead>\n",
       "    <tr style=\"text-align: right;\">\n",
       "      <th></th>\n",
       "      <th>Order ID</th>\n",
       "      <th>Product</th>\n",
       "      <th>Quantity Ordered</th>\n",
       "      <th>Price Each</th>\n",
       "      <th>Order Date</th>\n",
       "      <th>Purchase Address</th>\n",
       "      <th>Sales</th>\n",
       "      <th>Year</th>\n",
       "      <th>Month</th>\n",
       "      <th>Hour</th>\n",
       "      <th>Minute</th>\n",
       "      <th>Cities</th>\n",
       "      <th>Month_l</th>\n",
       "    </tr>\n",
       "  </thead>\n",
       "  <tbody>\n",
       "    <tr>\n",
       "      <th>61134</th>\n",
       "      <td>143879</td>\n",
       "      <td>USB-C Charging Cable</td>\n",
       "      <td>1</td>\n",
       "      <td>11.95</td>\n",
       "      <td>2019-01-28 12:11:00</td>\n",
       "      <td>665 Adams St, San Francisco, CA 94016</td>\n",
       "      <td>11.95</td>\n",
       "      <td>2019</td>\n",
       "      <td>1</td>\n",
       "      <td>12</td>\n",
       "      <td>11</td>\n",
       "      <td>San Francisco (CA)</td>\n",
       "      <td>Jan</td>\n",
       "    </tr>\n",
       "    <tr>\n",
       "      <th>62887</th>\n",
       "      <td>145550</td>\n",
       "      <td>Apple Airpods Headphones</td>\n",
       "      <td>1</td>\n",
       "      <td>150.00</td>\n",
       "      <td>2019-01-30 18:53:00</td>\n",
       "      <td>505 North St, Seattle, WA 98101</td>\n",
       "      <td>150.00</td>\n",
       "      <td>2019</td>\n",
       "      <td>1</td>\n",
       "      <td>18</td>\n",
       "      <td>53</td>\n",
       "      <td>Seattle (WA)</td>\n",
       "      <td>Jan</td>\n",
       "    </tr>\n",
       "    <tr>\n",
       "      <th>62886</th>\n",
       "      <td>145549</td>\n",
       "      <td>Apple Airpods Headphones</td>\n",
       "      <td>1</td>\n",
       "      <td>150.00</td>\n",
       "      <td>2019-01-02 09:45:00</td>\n",
       "      <td>644 1st St, San Francisco, CA 94016</td>\n",
       "      <td>150.00</td>\n",
       "      <td>2019</td>\n",
       "      <td>1</td>\n",
       "      <td>9</td>\n",
       "      <td>45</td>\n",
       "      <td>San Francisco (CA)</td>\n",
       "      <td>Jan</td>\n",
       "    </tr>\n",
       "    <tr>\n",
       "      <th>62885</th>\n",
       "      <td>145548</td>\n",
       "      <td>iPhone</td>\n",
       "      <td>1</td>\n",
       "      <td>700.00</td>\n",
       "      <td>2019-01-04 08:21:00</td>\n",
       "      <td>695 2nd St, Austin, TX 73301</td>\n",
       "      <td>700.00</td>\n",
       "      <td>2019</td>\n",
       "      <td>1</td>\n",
       "      <td>8</td>\n",
       "      <td>21</td>\n",
       "      <td>Austin (TX)</td>\n",
       "      <td>Jan</td>\n",
       "    </tr>\n",
       "    <tr>\n",
       "      <th>62884</th>\n",
       "      <td>145547</td>\n",
       "      <td>AAA Batteries (4-pack)</td>\n",
       "      <td>1</td>\n",
       "      <td>2.99</td>\n",
       "      <td>2019-01-26 23:31:00</td>\n",
       "      <td>446 Madison St, Los Angeles, CA 90001</td>\n",
       "      <td>2.99</td>\n",
       "      <td>2019</td>\n",
       "      <td>1</td>\n",
       "      <td>23</td>\n",
       "      <td>31</td>\n",
       "      <td>Los Angeles (CA)</td>\n",
       "      <td>Jan</td>\n",
       "    </tr>\n",
       "  </tbody>\n",
       "</table>\n",
       "</div>"
      ],
      "text/plain": [
       "      Order ID                   Product  Quantity Ordered  Price Each  \\\n",
       "61134   143879      USB-C Charging Cable                 1       11.95   \n",
       "62887   145550  Apple Airpods Headphones                 1      150.00   \n",
       "62886   145549  Apple Airpods Headphones                 1      150.00   \n",
       "62885   145548                    iPhone                 1      700.00   \n",
       "62884   145547    AAA Batteries (4-pack)                 1        2.99   \n",
       "\n",
       "               Order Date                       Purchase Address   Sales  \\\n",
       "61134 2019-01-28 12:11:00  665 Adams St, San Francisco, CA 94016   11.95   \n",
       "62887 2019-01-30 18:53:00        505 North St, Seattle, WA 98101  150.00   \n",
       "62886 2019-01-02 09:45:00    644 1st St, San Francisco, CA 94016  150.00   \n",
       "62885 2019-01-04 08:21:00           695 2nd St, Austin, TX 73301  700.00   \n",
       "62884 2019-01-26 23:31:00  446 Madison St, Los Angeles, CA 90001    2.99   \n",
       "\n",
       "       Year  Month  Hour  Minute               Cities Month_l  \n",
       "61134  2019      1    12      11   San Francisco (CA)     Jan  \n",
       "62887  2019      1    18      53         Seattle (WA)     Jan  \n",
       "62886  2019      1     9      45   San Francisco (CA)     Jan  \n",
       "62885  2019      1     8      21          Austin (TX)     Jan  \n",
       "62884  2019      1    23      31     Los Angeles (CA)     Jan  "
      ]
     },
     "execution_count": 59,
     "metadata": {},
     "output_type": "execute_result"
    }
   ],
   "source": [
    "main_df.head()"
   ]
  },
  {
   "cell_type": "markdown",
   "id": "c2c1a1c9",
   "metadata": {},
   "source": [
    "## Grouping Datasets by Hour & Prepare a Dataframe for Ploting."
   ]
  },
  {
   "cell_type": "code",
   "execution_count": 60,
   "id": "7a980dc7",
   "metadata": {},
   "outputs": [
    {
     "data": {
      "text/html": [
       "<div>\n",
       "<style scoped>\n",
       "    .dataframe tbody tr th:only-of-type {\n",
       "        vertical-align: middle;\n",
       "    }\n",
       "\n",
       "    .dataframe tbody tr th {\n",
       "        vertical-align: top;\n",
       "    }\n",
       "\n",
       "    .dataframe thead th {\n",
       "        text-align: right;\n",
       "    }\n",
       "</style>\n",
       "<table border=\"1\" class=\"dataframe\">\n",
       "  <thead>\n",
       "    <tr style=\"text-align: right;\">\n",
       "      <th></th>\n",
       "      <th>Hour</th>\n",
       "      <th>No. of Orders</th>\n",
       "    </tr>\n",
       "  </thead>\n",
       "  <tbody>\n",
       "    <tr>\n",
       "      <th>0</th>\n",
       "      <td>0</td>\n",
       "      <td>3902</td>\n",
       "    </tr>\n",
       "    <tr>\n",
       "      <th>1</th>\n",
       "      <td>1</td>\n",
       "      <td>2347</td>\n",
       "    </tr>\n",
       "    <tr>\n",
       "      <th>2</th>\n",
       "      <td>2</td>\n",
       "      <td>1242</td>\n",
       "    </tr>\n",
       "    <tr>\n",
       "      <th>3</th>\n",
       "      <td>3</td>\n",
       "      <td>830</td>\n",
       "    </tr>\n",
       "    <tr>\n",
       "      <th>4</th>\n",
       "      <td>4</td>\n",
       "      <td>852</td>\n",
       "    </tr>\n",
       "  </tbody>\n",
       "</table>\n",
       "</div>"
      ],
      "text/plain": [
       "   Hour  No. of Orders\n",
       "0     0           3902\n",
       "1     1           2347\n",
       "2     2           1242\n",
       "3     3            830\n",
       "4     4            852"
      ]
     },
     "execution_count": 60,
     "metadata": {},
     "output_type": "execute_result"
    }
   ],
   "source": [
    "order_hour_df = main_df.groupby('Hour')['Quantity Ordered'].count().reset_index(name='No. of Orders')\n",
    "order_hour_df.head()"
   ]
  },
  {
   "cell_type": "markdown",
   "id": "9905796f",
   "metadata": {},
   "source": [
    "## Ploting Line Plot between Total no. of Orders made in Different Hour of the Day."
   ]
  },
  {
   "cell_type": "code",
   "execution_count": 61,
   "id": "320561c0",
   "metadata": {},
   "outputs": [
    {
     "data": {
      "image/png": "[encoded data removed]",
      "text/plain": [
       "<Figure size 576x432 with 1 Axes>"
      ]
     },
     "metadata": {},
     "output_type": "display_data"
    }
   ],
   "source": [
    "#Styling our plots and dimensions.\n",
    "\n",
    "plt.style.use('seaborn')\n",
    "fig = plt.figure()\n",
    "fig.set_figheight(6)\n",
    "fig.set_figwidth(8)\n",
    "\n",
    "# Ploting Line Plot.\n",
    "plt.plot(order_hour_df['Hour'], order_hour_df['No. of Orders'], color='orange') #plt.plot(x,y)\n",
    "\n",
    "# Adding labels and Styling to Labels\n",
    "\n",
    "plt.xlabel(xlabel='Ordered Hour Time', fontsize=14, fontweight='bold').set_color('purple')\n",
    "plt.ylabel(ylabel='Total Orders Made', fontsize=14, fontweight='bold').set_color('purple')\n",
    "plt.title(label='Total Orders Made in Daily Hour Time ', fontsize=22, fontweight='bold').set_color('purple')\n",
    "\n",
    "plt.xticks(range(0,25))\n",
    "plt.xlim([0,24])\n",
    "\n",
    "plt.axhline(order_hour_df['No. of Orders'].max(), linestyle='--', c='red')\n",
    "plt.axhline(order_hour_df['No. of Orders'].min(), linestyle='--', c='red');\n"
   ]
  },
  {
   "cell_type": "markdown",
   "id": "320520fa",
   "metadata": {},
   "source": [
    "## As you can see from the Figure , there are approximately 2 peaks at the data. They are 12 (12 PM) and 19 (7 PM).\n",
    "\n",
    "## From this data, we can suggest to our bussiness partner to advertise their product right before 12 PM and/or 7 PM. It could be 11.30 AM and/or 6.30 PM."
   ]
  },
  {
   "cell_type": "markdown",
   "id": "19960a03",
   "metadata": {},
   "source": [
    "## Analyzing Citywise Orders & Making Specific Chart\n",
    "## It will be really better if we determine separately the Best Advertisement Time for Each City. Here, we plot with city with maximum sales i.e. San Francisco(CA) and minimum sales i.e. Portland(ME).\n",
    "\n",
    "### Chart for San Francisco(CA) and Portland(ME"
   ]
  },
  {
   "cell_type": "code",
   "execution_count": 62,
   "id": "6633bf01",
   "metadata": {},
   "outputs": [
    {
     "data": {
      "text/plain": [
       "Hour  Cities           \n",
       "0      Atlanta (GA)        310\n",
       "       Austin (TX)         198\n",
       "       Boston (MA)         426\n",
       "       Dallas (TX)         283\n",
       "       Los Angeles (CA)    634\n",
       "Name: Quantity Ordered, dtype: int64"
      ]
     },
     "execution_count": 62,
     "metadata": {},
     "output_type": "execute_result"
    }
   ],
   "source": [
    "ads_city_hour_df = main_df.groupby(['Hour', 'Cities'])['Quantity Ordered'].count()\n",
    "ads_city_hour_df.head()"
   ]
  },
  {
   "cell_type": "code",
   "execution_count": 63,
   "id": "a0ca51fa",
   "metadata": {},
   "outputs": [
    {
     "data": {
      "text/html": [
       "<div>\n",
       "<style scoped>\n",
       "    .dataframe tbody tr th:only-of-type {\n",
       "        vertical-align: middle;\n",
       "    }\n",
       "\n",
       "    .dataframe tbody tr th {\n",
       "        vertical-align: top;\n",
       "    }\n",
       "\n",
       "    .dataframe thead th {\n",
       "        text-align: right;\n",
       "    }\n",
       "</style>\n",
       "<table border=\"1\" class=\"dataframe\">\n",
       "  <thead>\n",
       "    <tr style=\"text-align: right;\">\n",
       "      <th>Cities</th>\n",
       "      <th>Atlanta (GA)</th>\n",
       "      <th>Austin (TX)</th>\n",
       "      <th>Boston (MA)</th>\n",
       "      <th>Dallas (TX)</th>\n",
       "      <th>Los Angeles (CA)</th>\n",
       "      <th>New York City (NY)</th>\n",
       "      <th>Portland (ME)</th>\n",
       "      <th>Portland (OR)</th>\n",
       "      <th>San Francisco (CA)</th>\n",
       "      <th>Seattle (WA)</th>\n",
       "    </tr>\n",
       "    <tr>\n",
       "      <th>Hour</th>\n",
       "      <th></th>\n",
       "      <th></th>\n",
       "      <th></th>\n",
       "      <th></th>\n",
       "      <th></th>\n",
       "      <th></th>\n",
       "      <th></th>\n",
       "      <th></th>\n",
       "      <th></th>\n",
       "      <th></th>\n",
       "    </tr>\n",
       "  </thead>\n",
       "  <tbody>\n",
       "    <tr>\n",
       "      <th>0</th>\n",
       "      <td>310</td>\n",
       "      <td>198</td>\n",
       "      <td>426</td>\n",
       "      <td>283</td>\n",
       "      <td>634</td>\n",
       "      <td>557</td>\n",
       "      <td>48</td>\n",
       "      <td>223</td>\n",
       "      <td>937</td>\n",
       "      <td>286</td>\n",
       "    </tr>\n",
       "    <tr>\n",
       "      <th>1</th>\n",
       "      <td>213</td>\n",
       "      <td>128</td>\n",
       "      <td>220</td>\n",
       "      <td>168</td>\n",
       "      <td>397</td>\n",
       "      <td>328</td>\n",
       "      <td>34</td>\n",
       "      <td>123</td>\n",
       "      <td>569</td>\n",
       "      <td>167</td>\n",
       "    </tr>\n",
       "    <tr>\n",
       "      <th>2</th>\n",
       "      <td>112</td>\n",
       "      <td>70</td>\n",
       "      <td>119</td>\n",
       "      <td>92</td>\n",
       "      <td>197</td>\n",
       "      <td>164</td>\n",
       "      <td>14</td>\n",
       "      <td>71</td>\n",
       "      <td>315</td>\n",
       "      <td>88</td>\n",
       "    </tr>\n",
       "    <tr>\n",
       "      <th>3</th>\n",
       "      <td>57</td>\n",
       "      <td>54</td>\n",
       "      <td>80</td>\n",
       "      <td>69</td>\n",
       "      <td>116</td>\n",
       "      <td>100</td>\n",
       "      <td>11</td>\n",
       "      <td>47</td>\n",
       "      <td>219</td>\n",
       "      <td>77</td>\n",
       "    </tr>\n",
       "    <tr>\n",
       "      <th>4</th>\n",
       "      <td>80</td>\n",
       "      <td>42</td>\n",
       "      <td>90</td>\n",
       "      <td>55</td>\n",
       "      <td>124</td>\n",
       "      <td>106</td>\n",
       "      <td>11</td>\n",
       "      <td>51</td>\n",
       "      <td>217</td>\n",
       "      <td>76</td>\n",
       "    </tr>\n",
       "  </tbody>\n",
       "</table>\n",
       "</div>"
      ],
      "text/plain": [
       "Cities   Atlanta (GA)   Austin (TX)   Boston (MA)   Dallas (TX)  \\\n",
       "Hour                                                              \n",
       "0                 310           198           426           283   \n",
       "1                 213           128           220           168   \n",
       "2                 112            70           119            92   \n",
       "3                  57            54            80            69   \n",
       "4                  80            42            90            55   \n",
       "\n",
       "Cities   Los Angeles (CA)   New York City (NY)   Portland (ME)  \\\n",
       "Hour                                                             \n",
       "0                     634                  557              48   \n",
       "1                     397                  328              34   \n",
       "2                     197                  164              14   \n",
       "3                     116                  100              11   \n",
       "4                     124                  106              11   \n",
       "\n",
       "Cities   Portland (OR)   San Francisco (CA)   Seattle (WA)  \n",
       "Hour                                                        \n",
       "0                  223                  937            286  \n",
       "1                  123                  569            167  \n",
       "2                   71                  315             88  \n",
       "3                   47                  219             77  \n",
       "4                   51                  217             76  "
      ]
     },
     "execution_count": 63,
     "metadata": {},
     "output_type": "execute_result"
    }
   ],
   "source": [
    "ads_city_hour_df = ads_city_hour_df.unstack().fillna(0)\n",
    "ads_city_hour_df.head()"
   ]
  },
  {
   "cell_type": "markdown",
   "id": "bb99b56a",
   "metadata": {},
   "source": [
    " Here, city name consists of total no. of Orders made with Daily Hour Time(Row-wise).\n",
    "\n",
    " Total Orders Made = 310 in Atlanta(GA) for Hour= 0(12AM)"
   ]
  },
  {
   "cell_type": "markdown",
   "id": "c913627d",
   "metadata": {},
   "source": [
    "## extracting column of CA and ME and creating DF for plotting"
   ]
  },
  {
   "cell_type": "code",
   "execution_count": 68,
   "id": "1cbda93f",
   "metadata": {},
   "outputs": [
    {
     "data": {
      "text/html": [
       "<div>\n",
       "<style scoped>\n",
       "    .dataframe tbody tr th:only-of-type {\n",
       "        vertical-align: middle;\n",
       "    }\n",
       "\n",
       "    .dataframe tbody tr th {\n",
       "        vertical-align: top;\n",
       "    }\n",
       "\n",
       "    .dataframe thead th {\n",
       "        text-align: right;\n",
       "    }\n",
       "</style>\n",
       "<table border=\"1\" class=\"dataframe\">\n",
       "  <thead>\n",
       "    <tr style=\"text-align: right;\">\n",
       "      <th></th>\n",
       "      <th>Hour</th>\n",
       "      <th>San Francisco (CA)</th>\n",
       "    </tr>\n",
       "  </thead>\n",
       "  <tbody>\n",
       "    <tr>\n",
       "      <th>0</th>\n",
       "      <td>0</td>\n",
       "      <td>937</td>\n",
       "    </tr>\n",
       "    <tr>\n",
       "      <th>1</th>\n",
       "      <td>1</td>\n",
       "      <td>569</td>\n",
       "    </tr>\n",
       "    <tr>\n",
       "      <th>2</th>\n",
       "      <td>2</td>\n",
       "      <td>315</td>\n",
       "    </tr>\n",
       "    <tr>\n",
       "      <th>3</th>\n",
       "      <td>3</td>\n",
       "      <td>219</td>\n",
       "    </tr>\n",
       "    <tr>\n",
       "      <th>4</th>\n",
       "      <td>4</td>\n",
       "      <td>217</td>\n",
       "    </tr>\n",
       "  </tbody>\n",
       "</table>\n",
       "</div>"
      ],
      "text/plain": [
       "   Hour   San Francisco (CA)\n",
       "0     0                  937\n",
       "1     1                  569\n",
       "2     2                  315\n",
       "3     3                  219\n",
       "4     4                  217"
      ]
     },
     "execution_count": 68,
     "metadata": {},
     "output_type": "execute_result"
    }
   ],
   "source": [
    "SanFranciscoCA_hour_df = pd.DataFrame(ads_city_hour_df[' San Francisco (CA)'])\n",
    "SanFranciscoCA_hour_df.reset_index(inplace=True)\n",
    "SanFranciscoCA_hour_df.head()"
   ]
  },
  {
   "cell_type": "code",
   "execution_count": 67,
   "id": "4c1807a5",
   "metadata": {},
   "outputs": [
    {
     "data": {
      "text/plain": [
       "Index([' Atlanta (GA)', ' Austin (TX)', ' Boston (MA)', ' Dallas (TX)',\n",
       "       ' Los Angeles (CA)', ' New York City (NY)', ' Portland (ME)',\n",
       "       ' Portland (OR)', ' San Francisco (CA)', ' Seattle (WA)'],\n",
       "      dtype='object', name='Cities')"
      ]
     },
     "execution_count": 67,
     "metadata": {},
     "output_type": "execute_result"
    }
   ],
   "source": [
    "ads_city_hour_df.columns\n"
   ]
  },
  {
   "cell_type": "code",
   "execution_count": 4,
   "id": "252c6db5",
   "metadata": {},
   "outputs": [
    {
     "ename": "NameError",
     "evalue": "name 'pd' is not defined",
     "output_type": "error",
     "traceback": [
      "\u001b[1;31m---------------------------------------------------------------------------\u001b[0m",
      "\u001b[1;31mNameError\u001b[0m                                 Traceback (most recent call last)",
      "\u001b[1;32m~\\AppData\\Local\\Temp/ipykernel_12112/3352430147.py\u001b[0m in \u001b[0;36m<module>\u001b[1;34m\u001b[0m\n\u001b[1;32m----> 1\u001b[1;33m \u001b[0mPortlandME_hour_df\u001b[0m \u001b[1;33m=\u001b[0m \u001b[0mpd\u001b[0m\u001b[1;33m.\u001b[0m\u001b[0mDataFrame\u001b[0m\u001b[1;33m(\u001b[0m\u001b[0mads_city_hour_df\u001b[0m\u001b[1;33m[\u001b[0m\u001b[1;34m' Portland (ME)'\u001b[0m\u001b[1;33m]\u001b[0m\u001b[1;33m)\u001b[0m\u001b[1;33m\u001b[0m\u001b[1;33m\u001b[0m\u001b[0m\n\u001b[0m\u001b[0;32m      2\u001b[0m \u001b[0mPortlandME_hour_df\u001b[0m\u001b[1;33m.\u001b[0m\u001b[0mreset_index\u001b[0m\u001b[1;33m(\u001b[0m\u001b[0minplace\u001b[0m\u001b[1;33m=\u001b[0m\u001b[1;32mTrue\u001b[0m\u001b[1;33m)\u001b[0m\u001b[1;33m\u001b[0m\u001b[1;33m\u001b[0m\u001b[0m\n\u001b[0;32m      3\u001b[0m \u001b[0mPortlandME_hour_df\u001b[0m\u001b[1;33m.\u001b[0m\u001b[0mhead\u001b[0m\u001b[1;33m(\u001b[0m\u001b[1;33m)\u001b[0m\u001b[1;33m\u001b[0m\u001b[1;33m\u001b[0m\u001b[0m\n",
      "\u001b[1;31mNameError\u001b[0m: name 'pd' is not defined"
     ]
    }
   ],
   "source": [
    "PortlandME_hour_df = pd.DataFrame(ads_city_hour_df[' Portland (ME)'])\n",
    "PortlandME_hour_df.reset_index(inplace=True)\n",
    "PortlandME_hour_df.head()"
   ]
  },
  {
   "cell_type": "markdown",
   "id": "0dee83db",
   "metadata": {},
   "source": [
    "## plotting for san francisco"
   ]
  },
  {
   "cell_type": "code",
   "execution_count": 73,
   "id": "10cf3bc7",
   "metadata": {},
   "outputs": [
    {
     "data": {
      "image/png": "[encoded data removed]",
      "text/plain": [
       "<Figure size 576x432 with 1 Axes>"
      ]
     },
     "metadata": {},
     "output_type": "display_data"
    }
   ],
   "source": [
    "#Styling our plots and dimensions.\n",
    "\n",
    "plt.style.use('seaborn')\n",
    "fig = plt.figure()\n",
    "fig.set_figheight(6)\n",
    "fig.set_figwidth(8)\n",
    "\n",
    "# Ploting Line Plot.\n",
    "plt.plot(SanFranciscoCA_hour_df['Hour'], SanFranciscoCA_hour_df[' San Francisco (CA)'], color='orange') #plt.plot(x,y)\n",
    "\n",
    "# Adding labels and Styling to Labels\n",
    "\n",
    "plt.xlabel(xlabel='Ordered Hour Time', fontsize=12, fontweight='bold').set_color('purple')\n",
    "plt.ylabel(ylabel='Total Orders Made', fontsize=12, fontweight='bold').set_color('purple')\n",
    "plt.title(label='Total Orders Made in Daily Hour Time for San Franscisco ', fontsize=18, fontweight='bold').set_color('purple')\n",
    "\n",
    "plt.xticks(range(0,25))\n",
    "plt.xlim([0,24])\n",
    "\n",
    "plt.axhline(SanFranciscoCA_hour_df[' San Francisco (CA)'].max(), linestyle='--', c='red')\n",
    "plt.axhline(SanFranciscoCA_hour_df[' San Francisco (CA)'].min(), linestyle='--', c='red');"
   ]
  },
  {
   "cell_type": "markdown",
   "id": "8bcc2de0",
   "metadata": {},
   "source": [
    "For Sans Franscisco(CA) ,\n",
    "\n",
    "Best Advertisement Time will be right before 12 A.M and/or 7 P.M.\n",
    "\n",
    "It could be 11:30 A.M and/or 6:30 PM.\n",
    "\n",
    "## Ploting for Portland(ME)"
   ]
  },
  {
   "cell_type": "code",
   "execution_count": 74,
   "id": "3358ef06",
   "metadata": {},
   "outputs": [
    {
     "data": {
      "image/png": "[encoded data removed]",
      "text/plain": [
       "<Figure size 576x432 with 1 Axes>"
      ]
     },
     "metadata": {},
     "output_type": "display_data"
    }
   ],
   "source": [
    "#Styling our plots and dimensions.\n",
    "\n",
    "plt.style.use('seaborn')\n",
    "fig = plt.figure()\n",
    "fig.set_figheight(6)\n",
    "fig.set_figwidth(8)\n",
    "\n",
    "# Ploting Line Plot.\n",
    "plt.plot(PortlandME_hour_df['Hour'], PortlandME_hour_df[' Portland (ME)'], color='orange') #plt.plot(x,y)\n",
    "\n",
    "# Adding labels and Styling to Labels\n",
    "\n",
    "plt.xlabel(xlabel='Ordered Hour Time', fontsize=12, fontweight='bold').set_color('purple')\n",
    "plt.ylabel(ylabel='Total Orders Made', fontsize=12, fontweight='bold').set_color('purple')\n",
    "plt.title(label='Total Orders Made in Daily Hour Time for Portland(ME)', fontsize=18, fontweight='bold').set_color('purple')\n",
    "\n",
    "plt.xticks(range(0,25))\n",
    "plt.xlim([0,24])\n",
    "\n",
    "plt.axhline(PortlandME_hour_df[' Portland (ME)'].max(), linestyle='--', c='red')\n",
    "plt.axhline(PortlandME_hour_df[' Portland (ME)'].min(), linestyle='--', c='red');"
   ]
  },
  {
   "cell_type": "markdown",
   "id": "698b06df",
   "metadata": {},
   "source": [
    "For Portland(ME) ,\n",
    "\n",
    "Best Advertisement Time will be right before 11 A.M and/or 7 P.M.\n",
    "\n",
    "It could be 10:30 A.M and/or 6:30 PM."
   ]
  },
  {
   "cell_type": "markdown",
   "id": "6365f935",
   "metadata": {},
   "source": [
    "## Top 5-Most Ordered /Sold Product"
   ]
  },
  {
   "cell_type": "code",
   "execution_count": 45,
   "id": "08dfa43e",
   "metadata": {},
   "outputs": [
    {
     "data": {
      "text/html": [
       "<div>\n",
       "<style scoped>\n",
       "    .dataframe tbody tr th:only-of-type {\n",
       "        vertical-align: middle;\n",
       "    }\n",
       "\n",
       "    .dataframe tbody tr th {\n",
       "        vertical-align: top;\n",
       "    }\n",
       "\n",
       "    .dataframe thead th {\n",
       "        text-align: right;\n",
       "    }\n",
       "</style>\n",
       "<table border=\"1\" class=\"dataframe\">\n",
       "  <thead>\n",
       "    <tr style=\"text-align: right;\">\n",
       "      <th></th>\n",
       "      <th>Order ID</th>\n",
       "      <th>Product</th>\n",
       "      <th>Quantity Ordered</th>\n",
       "      <th>Price Each</th>\n",
       "      <th>Order Date</th>\n",
       "      <th>Purchase Address</th>\n",
       "      <th>Sales</th>\n",
       "      <th>Year</th>\n",
       "      <th>Month</th>\n",
       "      <th>Hour</th>\n",
       "      <th>Minute</th>\n",
       "      <th>Cities</th>\n",
       "      <th>Month_l</th>\n",
       "    </tr>\n",
       "  </thead>\n",
       "  <tbody>\n",
       "    <tr>\n",
       "      <th>61134</th>\n",
       "      <td>143879</td>\n",
       "      <td>USB-C Charging Cable</td>\n",
       "      <td>1</td>\n",
       "      <td>11.95</td>\n",
       "      <td>2019-01-28 12:11:00</td>\n",
       "      <td>665 Adams St, San Francisco, CA 94016</td>\n",
       "      <td>11.95</td>\n",
       "      <td>2019</td>\n",
       "      <td>1</td>\n",
       "      <td>12</td>\n",
       "      <td>11</td>\n",
       "      <td>San Francisco (CA)</td>\n",
       "      <td>Jan</td>\n",
       "    </tr>\n",
       "    <tr>\n",
       "      <th>62887</th>\n",
       "      <td>145550</td>\n",
       "      <td>Apple Airpods Headphones</td>\n",
       "      <td>1</td>\n",
       "      <td>150.00</td>\n",
       "      <td>2019-01-30 18:53:00</td>\n",
       "      <td>505 North St, Seattle, WA 98101</td>\n",
       "      <td>150.00</td>\n",
       "      <td>2019</td>\n",
       "      <td>1</td>\n",
       "      <td>18</td>\n",
       "      <td>53</td>\n",
       "      <td>Seattle (WA)</td>\n",
       "      <td>Jan</td>\n",
       "    </tr>\n",
       "    <tr>\n",
       "      <th>62886</th>\n",
       "      <td>145549</td>\n",
       "      <td>Apple Airpods Headphones</td>\n",
       "      <td>1</td>\n",
       "      <td>150.00</td>\n",
       "      <td>2019-01-02 09:45:00</td>\n",
       "      <td>644 1st St, San Francisco, CA 94016</td>\n",
       "      <td>150.00</td>\n",
       "      <td>2019</td>\n",
       "      <td>1</td>\n",
       "      <td>9</td>\n",
       "      <td>45</td>\n",
       "      <td>San Francisco (CA)</td>\n",
       "      <td>Jan</td>\n",
       "    </tr>\n",
       "    <tr>\n",
       "      <th>62885</th>\n",
       "      <td>145548</td>\n",
       "      <td>iPhone</td>\n",
       "      <td>1</td>\n",
       "      <td>700.00</td>\n",
       "      <td>2019-01-04 08:21:00</td>\n",
       "      <td>695 2nd St, Austin, TX 73301</td>\n",
       "      <td>700.00</td>\n",
       "      <td>2019</td>\n",
       "      <td>1</td>\n",
       "      <td>8</td>\n",
       "      <td>21</td>\n",
       "      <td>Austin (TX)</td>\n",
       "      <td>Jan</td>\n",
       "    </tr>\n",
       "    <tr>\n",
       "      <th>62884</th>\n",
       "      <td>145547</td>\n",
       "      <td>AAA Batteries (4-pack)</td>\n",
       "      <td>1</td>\n",
       "      <td>2.99</td>\n",
       "      <td>2019-01-26 23:31:00</td>\n",
       "      <td>446 Madison St, Los Angeles, CA 90001</td>\n",
       "      <td>2.99</td>\n",
       "      <td>2019</td>\n",
       "      <td>1</td>\n",
       "      <td>23</td>\n",
       "      <td>31</td>\n",
       "      <td>Los Angeles (CA)</td>\n",
       "      <td>Jan</td>\n",
       "    </tr>\n",
       "  </tbody>\n",
       "</table>\n",
       "</div>"
      ],
      "text/plain": [
       "      Order ID                   Product  Quantity Ordered  Price Each  \\\n",
       "61134   143879      USB-C Charging Cable                 1       11.95   \n",
       "62887   145550  Apple Airpods Headphones                 1      150.00   \n",
       "62886   145549  Apple Airpods Headphones                 1      150.00   \n",
       "62885   145548                    iPhone                 1      700.00   \n",
       "62884   145547    AAA Batteries (4-pack)                 1        2.99   \n",
       "\n",
       "               Order Date                       Purchase Address   Sales  \\\n",
       "61134 2019-01-28 12:11:00  665 Adams St, San Francisco, CA 94016   11.95   \n",
       "62887 2019-01-30 18:53:00        505 North St, Seattle, WA 98101  150.00   \n",
       "62886 2019-01-02 09:45:00    644 1st St, San Francisco, CA 94016  150.00   \n",
       "62885 2019-01-04 08:21:00           695 2nd St, Austin, TX 73301  700.00   \n",
       "62884 2019-01-26 23:31:00  446 Madison St, Los Angeles, CA 90001    2.99   \n",
       "\n",
       "       Year  Month  Hour  Minute               Cities Month_l  \n",
       "61134  2019      1    12      11   San Francisco (CA)     Jan  \n",
       "62887  2019      1    18      53         Seattle (WA)     Jan  \n",
       "62886  2019      1     9      45   San Francisco (CA)     Jan  \n",
       "62885  2019      1     8      21          Austin (TX)     Jan  \n",
       "62884  2019      1    23      31     Los Angeles (CA)     Jan  "
      ]
     },
     "execution_count": 45,
     "metadata": {},
     "output_type": "execute_result"
    }
   ],
   "source": [
    "main_df.head()"
   ]
  },
  {
   "cell_type": "code",
   "execution_count": 46,
   "id": "9b9cef1f",
   "metadata": {},
   "outputs": [
    {
     "data": {
      "text/html": [
       "<div>\n",
       "<style scoped>\n",
       "    .dataframe tbody tr th:only-of-type {\n",
       "        vertical-align: middle;\n",
       "    }\n",
       "\n",
       "    .dataframe tbody tr th {\n",
       "        vertical-align: top;\n",
       "    }\n",
       "\n",
       "    .dataframe thead th {\n",
       "        text-align: right;\n",
       "    }\n",
       "</style>\n",
       "<table border=\"1\" class=\"dataframe\">\n",
       "  <thead>\n",
       "    <tr style=\"text-align: right;\">\n",
       "      <th></th>\n",
       "      <th>Product</th>\n",
       "      <th>Quantity Ordered</th>\n",
       "      <th>Price Each</th>\n",
       "      <th>Sales</th>\n",
       "      <th>Year</th>\n",
       "      <th>Month</th>\n",
       "      <th>Hour</th>\n",
       "      <th>Minute</th>\n",
       "    </tr>\n",
       "  </thead>\n",
       "  <tbody>\n",
       "    <tr>\n",
       "      <th>0</th>\n",
       "      <td>20in Monitor</td>\n",
       "      <td>4126</td>\n",
       "      <td>450739.02</td>\n",
       "      <td>453818.74</td>\n",
       "      <td>8273864</td>\n",
       "      <td>29319</td>\n",
       "      <td>58729</td>\n",
       "      <td>122096</td>\n",
       "    </tr>\n",
       "    <tr>\n",
       "      <th>1</th>\n",
       "      <td>27in 4K Gaming Monitor</td>\n",
       "      <td>6239</td>\n",
       "      <td>2427687.75</td>\n",
       "      <td>2433147.61</td>\n",
       "      <td>12568276</td>\n",
       "      <td>44396</td>\n",
       "      <td>90841</td>\n",
       "      <td>184129</td>\n",
       "    </tr>\n",
       "    <tr>\n",
       "      <th>2</th>\n",
       "      <td>27in FHD Monitor</td>\n",
       "      <td>7541</td>\n",
       "      <td>1124625.02</td>\n",
       "      <td>1131074.59</td>\n",
       "      <td>15138465</td>\n",
       "      <td>52484</td>\n",
       "      <td>107422</td>\n",
       "      <td>219659</td>\n",
       "    </tr>\n",
       "    <tr>\n",
       "      <th>3</th>\n",
       "      <td>34in Ultrawide Monitor</td>\n",
       "      <td>6192</td>\n",
       "      <td>2346058.26</td>\n",
       "      <td>2352898.08</td>\n",
       "      <td>12465306</td>\n",
       "      <td>43258</td>\n",
       "      <td>88957</td>\n",
       "      <td>183318</td>\n",
       "    </tr>\n",
       "    <tr>\n",
       "      <th>4</th>\n",
       "      <td>AA Batteries (4-pack)</td>\n",
       "      <td>27615</td>\n",
       "      <td>78942.72</td>\n",
       "      <td>106041.60</td>\n",
       "      <td>41506602</td>\n",
       "      <td>145423</td>\n",
       "      <td>298077</td>\n",
       "      <td>608560</td>\n",
       "    </tr>\n",
       "  </tbody>\n",
       "</table>\n",
       "</div>"
      ],
      "text/plain": [
       "                  Product  Quantity Ordered  Price Each       Sales      Year  \\\n",
       "0            20in Monitor              4126   450739.02   453818.74   8273864   \n",
       "1  27in 4K Gaming Monitor              6239  2427687.75  2433147.61  12568276   \n",
       "2        27in FHD Monitor              7541  1124625.02  1131074.59  15138465   \n",
       "3  34in Ultrawide Monitor              6192  2346058.26  2352898.08  12465306   \n",
       "4   AA Batteries (4-pack)             27615    78942.72   106041.60  41506602   \n",
       "\n",
       "    Month    Hour  Minute  \n",
       "0   29319   58729  122096  \n",
       "1   44396   90841  184129  \n",
       "2   52484  107422  219659  \n",
       "3   43258   88957  183318  \n",
       "4  145423  298077  608560  "
      ]
     },
     "execution_count": 46,
     "metadata": {},
     "output_type": "execute_result"
    }
   ],
   "source": [
    "product_df = main_df.groupby('Product').sum()\n",
    "product_df = product_df.reset_index()\n",
    "product_df.head()"
   ]
  },
  {
   "cell_type": "markdown",
   "id": "7eff266e",
   "metadata": {},
   "source": [
    "## Ploting the Bar Graph."
   ]
  },
  {
   "cell_type": "code",
   "execution_count": 47,
   "id": "26344e8e",
   "metadata": {},
   "outputs": [
    {
     "data": {
      "image/png": "[encoded data removed]",
      "text/plain": [
       "<Figure size 576x288 with 1 Axes>"
      ]
     },
     "metadata": {},
     "output_type": "display_data"
    }
   ],
   "source": [
    "fig = plt.figure()\n",
    "fig.set_figheight(4)\n",
    "fig.set_figwidth(8)\n",
    "\n",
    "plt.bar(product_df['Product'], product_df['Quantity Ordered'])\n",
    "plt.xticks(ticks = list( product_df['Product']), rotation='vertical', fontsize=12, fontweight='bold')\n",
    "plt.xlabel(xlabel='Product Name', fontsize=16, fontweight='bold').set_color('purple')\n",
    "plt.ylabel(ylabel='Quantity Ordered', fontsize=16, fontweight='bold').set_color('purple')\n",
    "plt.title(label='Product Versus Quantity Ordered for whole dataset', fontsize=18, fontweight='bold').set_color('purple');"
   ]
  },
  {
   "cell_type": "markdown",
   "id": "3aaa7042",
   "metadata": {},
   "source": [
    "Most Ordered/Sold Product Name in 2019: AAA Batteries(4-Pack)"
   ]
  },
  {
   "cell_type": "markdown",
   "id": "24d43d0c",
   "metadata": {},
   "source": [
    "## Displaying Top 5 Most Ordered Product."
   ]
  },
  {
   "cell_type": "code",
   "execution_count": 49,
   "id": "6e77a43f",
   "metadata": {},
   "outputs": [
    {
     "name": "stdout",
     "output_type": "stream",
     "text": [
      "Top 5 Most Ordered/Sold Products\n",
      "\n",
      "                          Quantity Ordered\n",
      "Product                                   \n",
      "AAA Batteries (4-pack)               30986\n",
      "AA Batteries (4-pack)                27615\n",
      "USB-C Charging Cable                 23931\n",
      "Lightning Charging Cable             23169\n",
      "Wired Headphones                     20524\n"
     ]
    }
   ],
   "source": [
    "top_5_product_df = product_df.sort_values(by='Quantity Ordered', ascending=False)[['Product', 'Quantity Ordered']][:5]\n",
    "print(f\"Top 5 Most Ordered/Sold Products\\n\\n{top_5_product_df.set_index('Product')}\")"
   ]
  },
  {
   "cell_type": "markdown",
   "id": "4de86c0d",
   "metadata": {},
   "source": []
  },
  {
   "cell_type": "markdown",
   "id": "8133cdb8",
   "metadata": {},
   "source": []
  },
  {
   "cell_type": "code",
   "execution_count": null,
   "id": "596fda94",
   "metadata": {},
   "outputs": [],
   "source": []
  }
 ],
 "metadata": {
  "kernelspec": {
   "display_name": "Python 3 (ipykernel)",
   "language": "python",
   "name": "python3"
  },
  "language_info": {
   "codemirror_mode": {
    "name": "ipython",
    "version": 3
   },
   "file_extension": ".py",
   "mimetype": "text/x-python",
   "name": "python",
   "nbconvert_exporter": "python",
   "pygments_lexer": "ipython3",
   "version": "3.9.7"
  }
 },
 "nbformat": 4,
 "nbformat_minor": 5
}
